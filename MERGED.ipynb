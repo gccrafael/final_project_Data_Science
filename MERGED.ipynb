{
 "cells": [
  {
   "cell_type": "markdown",
   "metadata": {},
   "source": [
    "# Getting and cleaning complaint problems data"
   ]
  },
  {
   "cell_type": "markdown",
   "metadata": {},
   "source": [
    "First, data from the NYC Housing Complaint problems dataset are read into a pandas data frame."
   ]
  },
  {
   "cell_type": "code",
   "execution_count": 1,
   "metadata": {
    "collapsed": false
   },
   "outputs": [
    {
     "data": {
      "text/html": [
       "<div>\n",
       "<table border=\"1\" class=\"dataframe\">\n",
       "  <thead>\n",
       "    <tr style=\"text-align: right;\">\n",
       "      <th></th>\n",
       "      <th>ProblemID</th>\n",
       "      <th>ComplaintID</th>\n",
       "      <th>UnitTypeID</th>\n",
       "      <th>UnitType</th>\n",
       "      <th>SpaceTypeID</th>\n",
       "      <th>SpaceType</th>\n",
       "      <th>TypeID</th>\n",
       "      <th>Type</th>\n",
       "      <th>MajorCategoryID</th>\n",
       "      <th>MajorCategory</th>\n",
       "      <th>MinorCategoryID</th>\n",
       "      <th>MinorCategory</th>\n",
       "      <th>CodeID</th>\n",
       "      <th>Code</th>\n",
       "      <th>StatusID</th>\n",
       "      <th>Status</th>\n",
       "      <th>StatusDate</th>\n",
       "      <th>StatusDescription</th>\n",
       "    </tr>\n",
       "  </thead>\n",
       "  <tbody>\n",
       "    <tr>\n",
       "      <th>0</th>\n",
       "      <td>14603248</td>\n",
       "      <td>6991025</td>\n",
       "      <td>91</td>\n",
       "      <td>APARTMENT</td>\n",
       "      <td>541</td>\n",
       "      <td>BATHROOM</td>\n",
       "      <td>1</td>\n",
       "      <td>EMERGENCY</td>\n",
       "      <td>9</td>\n",
       "      <td>PLUMBING</td>\n",
       "      <td>65</td>\n",
       "      <td>BASIN/SINK</td>\n",
       "      <td>624</td>\n",
       "      <td>DRAIN PIPE BLOCKED OR BROKEN</td>\n",
       "      <td>2</td>\n",
       "      <td>CLOSE</td>\n",
       "      <td>09/13/2014</td>\n",
       "      <td>The Department of Housing Preservation and Dev...</td>\n",
       "    </tr>\n",
       "    <tr>\n",
       "      <th>1</th>\n",
       "      <td>14643878</td>\n",
       "      <td>7007545</td>\n",
       "      <td>91</td>\n",
       "      <td>APARTMENT</td>\n",
       "      <td>543</td>\n",
       "      <td>ENTIRE APARTMENT</td>\n",
       "      <td>1</td>\n",
       "      <td>EMERGENCY</td>\n",
       "      <td>59</td>\n",
       "      <td>HEAT/HOT WATER</td>\n",
       "      <td>348</td>\n",
       "      <td>APARTMENT ONLY</td>\n",
       "      <td>2834</td>\n",
       "      <td>NO HOT WATER</td>\n",
       "      <td>2</td>\n",
       "      <td>CLOSE</td>\n",
       "      <td>09/03/2014</td>\n",
       "      <td>The Department of Housing Preservation and Dev...</td>\n",
       "    </tr>\n",
       "    <tr>\n",
       "      <th>2</th>\n",
       "      <td>14630215</td>\n",
       "      <td>7000457</td>\n",
       "      <td>91</td>\n",
       "      <td>APARTMENT</td>\n",
       "      <td>541</td>\n",
       "      <td>BATHROOM</td>\n",
       "      <td>3</td>\n",
       "      <td>NON EMERGENCY</td>\n",
       "      <td>65</td>\n",
       "      <td>WATER LEAK</td>\n",
       "      <td>381</td>\n",
       "      <td>SLOW LEAK</td>\n",
       "      <td>2831</td>\n",
       "      <td>AT WALL OR CEILING</td>\n",
       "      <td>2</td>\n",
       "      <td>CLOSE</td>\n",
       "      <td>10/24/2014</td>\n",
       "      <td>The Department of Housing Preservation and Dev...</td>\n",
       "    </tr>\n",
       "  </tbody>\n",
       "</table>\n",
       "</div>"
      ],
      "text/plain": [
       "   ProblemID  ComplaintID  UnitTypeID   UnitType  SpaceTypeID   \\\n",
       "0   14603248      6991025          91  APARTMENT           541   \n",
       "1   14643878      7007545          91  APARTMENT           543   \n",
       "2   14630215      7000457          91  APARTMENT           541   \n",
       "\n",
       "          SpaceType  TypeID           Type  MajorCategoryID   MajorCategory  \\\n",
       "0          BATHROOM       1      EMERGENCY                9        PLUMBING   \n",
       "1  ENTIRE APARTMENT       1      EMERGENCY               59  HEAT/HOT WATER   \n",
       "2          BATHROOM       3  NON EMERGENCY               65      WATER LEAK   \n",
       "\n",
       "   MinorCategoryID   MinorCategory  CodeID                          Code  \\\n",
       "0               65      BASIN/SINK     624  DRAIN PIPE BLOCKED OR BROKEN   \n",
       "1              348  APARTMENT ONLY    2834                  NO HOT WATER   \n",
       "2              381       SLOW LEAK    2831            AT WALL OR CEILING   \n",
       "\n",
       "   StatusID Status  StatusDate  \\\n",
       "0         2  CLOSE  09/13/2014   \n",
       "1         2  CLOSE  09/03/2014   \n",
       "2         2  CLOSE  10/24/2014   \n",
       "\n",
       "                                   StatusDescription  \n",
       "0  The Department of Housing Preservation and Dev...  \n",
       "1  The Department of Housing Preservation and Dev...  \n",
       "2  The Department of Housing Preservation and Dev...  "
      ]
     },
     "execution_count": 1,
     "metadata": {},
     "output_type": "execute_result"
    }
   ],
   "source": [
    "import pandas as pd\n",
    "import numpy as np\n",
    "import re\n",
    "\n",
    "### \n",
    "\n",
    "def get_problem_data():\n",
    "    query = (\"https://data.cityofnewyork.us/api/views/a2nx-4u46/rows.csv?accessType=DOWNLOAD\")\n",
    "    complaint_problems = pd.read_csv(query)\n",
    "    return complaint_problems\n",
    "            \n",
    "complaint_problems = get_problem_data()\n",
    "complaint_problems.head(3)"
   ]
  },
  {
   "cell_type": "markdown",
   "metadata": {},
   "source": [
    "Next, the dataset is cleaned as follows:\n",
    "* The following features are dropped:\n",
    "    ** UnitType, SpaceType, Type, MajorCategory, MinorCategory, Code, Status,"
   ]
  },
  {
   "cell_type": "code",
   "execution_count": 2,
   "metadata": {
    "collapsed": false
   },
   "outputs": [
    {
     "name": "stdout",
     "output_type": "stream",
     "text": [
      "(852936, 18)\n",
      "(852936, 11)\n"
     ]
    }
   ],
   "source": [
    "print complaint_problems.shape\n",
    "complaint_problems = complaint_problems.drop(['UnitType', 'SpaceType', 'Type', 'MajorCategory','MinorCategory','Code','Status'],1)\n",
    "print complaint_problems.shape"
   ]
  },
  {
   "cell_type": "markdown",
   "metadata": {},
   "source": [
    "Then rows are dropped if:\n",
    "    * StatusID == 1 (i.e. the record is open)\n",
    "    * They are incomplete (i.e. only complete records are included in analytic sample)"
   ]
  },
  {
   "cell_type": "code",
   "execution_count": 3,
   "metadata": {
    "collapsed": false
   },
   "outputs": [
    {
     "name": "stdout",
     "output_type": "stream",
     "text": [
      "(830437, 11)\n",
      "(827515, 11)\n"
     ]
    }
   ],
   "source": [
    "complaint_problems = complaint_problems[(complaint_problems.StatusID == 2)]\n",
    "print complaint_problems.shape\n",
    "complaint_problems = complaint_problems[~(complaint_problems.isnull().any(axis=1))]\n",
    "print complaint_problems.shape"
   ]
  },
  {
   "cell_type": "markdown",
   "metadata": {},
   "source": [
    "Next, rows are dropped if:\n",
    "\n",
    "* Values in fields UnitType, SpaceType, Type, MajorCategory, MinorCategory, and Code are not in codebook (implying the value is missing or mis-entered).\n",
    "\n",
    "Sets of allowed code values are read in from txt files, which were produced from the HPD-producedd codebook 'HPD_Complaints_Open_Data.pdf' as follows:\n",
    "\n",
    "* 'HPD_Complaints_Open_Data.pdf' was converted to an html file using the pdfminer package.\n",
    "* All text from each section of the codebook was copied from this html page into a text file.\n",
    "* This text file was manually cleaned and everything except allowed code values was deleted."
   ]
  },
  {
   "cell_type": "code",
   "execution_count": 4,
   "metadata": {
    "collapsed": false,
    "scrolled": true
   },
   "outputs": [],
   "source": [
    "def get_allowed_codes_from_txt(feature_name):\n",
    "    file_path = 'codebook_for_complaint_problems/' + str(feature_name) + '.txt'\n",
    "    with open(file_path) as f:\n",
    "        raw_codebook = f.readlines()\n",
    "    code_values = []\n",
    "    for line in raw_codebook:\n",
    "        code_values.extend(re.findall('[0-9]+',line))\n",
    "    code_values = np.array(code_values).astype(int)\n",
    "    return code_values\n",
    "\n",
    "allowed_UnitTypeID = get_allowed_codes_from_txt('UnitType')\n",
    "allowed_TypeID = get_allowed_codes_from_txt('ProblemType')\n",
    "allowed_SpaceTypeID = get_allowed_codes_from_txt('SpaceType')\n",
    "allowed_MajorCategoryID = get_allowed_codes_from_txt('MajorCategory')\n",
    "allowed_MinorCategoryID = get_allowed_codes_from_txt('MinorCategory')\n",
    "allowed_CodeID = get_allowed_codes_from_txt('Code')"
   ]
  },
  {
   "cell_type": "code",
   "execution_count": 5,
   "metadata": {
    "collapsed": false
   },
   "outputs": [
    {
     "name": "stdout",
     "output_type": "stream",
     "text": [
      "Index([u'ProblemID', u'ComplaintID', u'UnitTypeID', u'SpaceTypeID ', u'TypeID',\n",
      "       u'MajorCategoryID', u'MinorCategoryID', u'CodeID', u'StatusID',\n",
      "       u'StatusDate', u'StatusDescription'],\n",
      "      dtype='object')\n"
     ]
    }
   ],
   "source": [
    "##Note there is an extra whitespace in the SpaceTypeID_ column name\n",
    "print complaint_problems.columns"
   ]
  },
  {
   "cell_type": "code",
   "execution_count": 6,
   "metadata": {
    "collapsed": false
   },
   "outputs": [],
   "source": [
    "##so we need to first rename the columns\n",
    "complaint_problems.columns = ['ProblemID', 'ComplaintID', 'UnitTypeID', 'SpaceTypeID', 'TypeID', 'MajorCategoryID', 'MinorCategoryID', 'CodeID', 'StatusID', 'StatusDate', 'StatusDescription']"
   ]
  },
  {
   "cell_type": "code",
   "execution_count": 7,
   "metadata": {
    "collapsed": false
   },
   "outputs": [
    {
     "name": "stdout",
     "output_type": "stream",
     "text": [
      "(827515, 11)\n",
      "(787767, 11)\n",
      "(787767, 11)\n",
      "(787767, 11)\n",
      "(787767, 11)\n",
      "(787764, 11)\n",
      "(777524, 11)\n"
     ]
    }
   ],
   "source": [
    "print complaint_problems.shape\n",
    "complaint_problems_proc = complaint_problems[(complaint_problems['SpaceTypeID'].isin(allowed_SpaceTypeID))]\n",
    "print complaint_problems_proc.shape\n",
    "\n",
    "complaint_problems_proc = complaint_problems_proc[(complaint_problems_proc['UnitTypeID'].isin(allowed_UnitTypeID))]\n",
    "print complaint_problems_proc.shape\n",
    "\n",
    "complaint_problems_proc = complaint_problems_proc[(complaint_problems_proc['TypeID'].isin(allowed_TypeID))]\n",
    "print complaint_problems_proc.shape\n",
    "\n",
    "complaint_problems_proc = complaint_problems_proc[(complaint_problems_proc['MajorCategoryID'].isin(allowed_MajorCategoryID))]\n",
    "print complaint_problems_proc.shape\n",
    "\n",
    "complaint_problems_proc = complaint_problems_proc[(complaint_problems_proc['MinorCategoryID'].isin(allowed_MinorCategoryID))]\n",
    "print complaint_problems_proc.shape\n",
    "\n",
    "complaint_problems_proc = complaint_problems_proc[(complaint_problems_proc['CodeID'].isin(allowed_CodeID))]\n",
    "print complaint_problems_proc.shape"
   ]
  },
  {
   "cell_type": "markdown",
   "metadata": {},
   "source": [
    "Then, StatusDescriptions are processed and coded using the scheme outlined below:"
   ]
  },
  {
   "cell_type": "code",
   "execution_count": 8,
   "metadata": {
    "collapsed": false
   },
   "outputs": [],
   "source": [
    "###Proposed classes for StatusDescription:\n",
    "\n",
    "## 1. \"not able to gain access\" = r'not\\sables\\sto\\sgain\\saccess'\n",
    "##1. \"unable to access\" = r'unable\\sto\\saccess'\n",
    "## 2. \"inspected the following conditions. No violations were issued.\" = r'inspected\\sthe\\sfollowing\\sconditions\\.\\sNo\\sviolations\\swere\\sissued'\n",
    "##2. \"Heat was not required at the time of the inspection. No violations were issued\" = r'Heat\\swas\\snot\\srequired\\sat\\sthe\\stime\\sof\\sthe\\sinspection\\.\\sNo\\sviolations\\swere\\sissued'\n",
    "## 3. \". Violations were issued\" = r'\\.Violations\\swere\\sissued'\n",
    "##4. \". Violations were previously issued\" = r'\\.Violations\\swere\\spreviously\\sissued'\n",
    "##5. \"conditions were corrected\" = r'conditions\\swere\\scorrected'\n",
    "##5. \"advised by a tenant' [that heat or hot water was restored] = r'advised\\sby\\sa\\stenant'\n",
    "##6. \"conditions are still open\" = r'conditions\\sare\\still\\open'\n",
    "##7. \"inspection to test the paint for lead\" = r'inspection\\sto\\stest\\sthe\\spaint\\sfor\\slead'\n",
    "##8. \". A Section 8 Failure was issued.\" = r'\\.\\sA\\sSection\\s8\\sFailure\\swas\\sissued\\.'\n",
    "##0. Not one of the above.\n",
    "\n",
    "def infer_complaint_status(input_string):\n",
    "    try:\n",
    "        input_string = str(input_string)\n",
    "    except:\n",
    "        print input_string\n",
    "    if bool(re.search(r'not\\sable\\sto\\sgain\\saccess', input_string)):\n",
    "        code = 1 \n",
    "    elif bool(re.search(r'unable\\sto\\saccess', input_string)):\n",
    "        code = 1\n",
    "    elif bool(re.search(r'inspected\\sthe\\sfollowing\\sconditions\\.\\sNo\\sviolations\\swere\\sissued', input_string)):\n",
    "        code = 2\n",
    "    elif bool(re.search(r'Heat\\swas\\snot\\srequired\\sat\\sthe\\stime\\sof\\sthe\\sinspection\\.\\sNo\\sviolations\\swere\\sissued', input_string)):\n",
    "        code = 2\n",
    "    elif bool(re.search(r'\\.\\sViolations\\swere\\sissued', input_string)):\n",
    "        code = 3\n",
    "    elif bool(re.search(r'\\.\\sViolations\\swere\\spreviously\\sissued', input_string)):\n",
    "        code = 4\n",
    "    elif bool(re.search(r'conditions\\swere\\scorrected', input_string)):\n",
    "        code = 5 \n",
    "    elif bool(re.search(r'advised\\sby\\sa\\stenant', input_string)):\n",
    "        code = 5\n",
    "    elif bool(re.search(r'conditions\\sare\\sstill\\sopen', input_string)):\n",
    "        code = 6\n",
    "    elif bool(re.search(r'inspection\\sto\\stest\\sthe\\spaint\\sfor\\slead', input_string)):\n",
    "        code = 7\n",
    "    elif bool(re.search(r'\\.\\sA\\sSection\\s8\\sFailure\\swas\\sissued\\.', input_string)):\n",
    "        code = 8\n",
    "    else:\n",
    "        code = 0\n",
    "    return code\n",
    "\n",
    "complaint_problems_proc['StatusDescriptionID'] = complaint_problems_proc['StatusDescription'].map(infer_complaint_status)"
   ]
  },
  {
   "cell_type": "code",
   "execution_count": 9,
   "metadata": {
    "collapsed": false
   },
   "outputs": [
    {
     "name": "stdout",
     "output_type": "stream",
     "text": [
      "0\n"
     ]
    }
   ],
   "source": [
    "print len(complaint_problems_proc[(complaint_problems_proc['StatusDescriptionID'] == 0)])"
   ]
  },
  {
   "cell_type": "markdown",
   "metadata": {},
   "source": [
    "Since there are no records with StatusDescriptionID == 0, we know we've successfully handled every status description. As such, proceed by dropping StatusID (since they're all 2), and StatusDescription."
   ]
  },
  {
   "cell_type": "code",
   "execution_count": 10,
   "metadata": {
    "collapsed": false
   },
   "outputs": [
    {
     "name": "stdout",
     "output_type": "stream",
     "text": [
      "   ProblemID  ComplaintID  UnitTypeID  SpaceTypeID  TypeID  MajorCategoryID  \\\n",
      "0   14603248      6991025          91          541       1                9   \n",
      "1   14643878      7007545          91          543       1               59   \n",
      "2   14630215      7000457          91          541       3               65   \n",
      "3   14548958      6967900          91          541       1                9   \n",
      "4   14548959      6967900          91          541       3                9   \n",
      "5   14548960      6967900          91          543       3               58   \n",
      "\n",
      "   MinorCategoryID  CodeID  StatusDate  StatusDescriptionID  \n",
      "0               65     624  09/13/2014                    3  \n",
      "1              348    2834  09/03/2014                    5  \n",
      "2              381    2831  10/24/2014                    1  \n",
      "3               63    2538  07/29/2014                    3  \n",
      "4               63    2540  08/04/2014                    1  \n",
      "5              343    2691  08/04/2014                    1  \n"
     ]
    }
   ],
   "source": [
    "complaint_problems_proc = complaint_problems_proc.drop(['StatusID','StatusDescription'],axis=1)\n",
    "print complaint_problems_proc.head(6)"
   ]
  },
  {
   "cell_type": "markdown",
   "metadata": {},
   "source": [
    "Finally, we check that we only have records from 2014 and beyond- once we've confirmed this, we're done!"
   ]
  },
  {
   "cell_type": "code",
   "execution_count": 11,
   "metadata": {
    "collapsed": false
   },
   "outputs": [
    {
     "name": "stdout",
     "output_type": "stream",
     "text": [
      "(777524, 10)\n",
      "(777524, 10)\n"
     ]
    }
   ],
   "source": [
    "print complaint_problems_proc.shape\n",
    "complaint_problems_proc.StatusDate = pd.to_datetime(complaint_problems_proc.StatusDate)\n",
    "print complaint_problems_proc[(complaint_problems_proc.StatusDate.map(lambda x: x.year == 2014 or x.year == 2015))].shape"
   ]
  },
  {
   "cell_type": "markdown",
   "metadata": {},
   "source": [
    "Complaint problems: Date range: 2014-2015 Only closed complaints (exclude “conditions are still open” complaints)\n",
    "Read in housing maintenance code complaints dataset (HMCC)(only records with status dates after 2014, and statusid = 2), including only the following features: -complaintID -boroughID -block -lot\n",
    "Construct the BBL using the Borough, block, and lot features in the housing"
   ]
  },
  {
   "cell_type": "code",
   "execution_count": null,
   "metadata": {
    "collapsed": false
   },
   "outputs": [],
   "source": [
    "import pandas as pd\n",
    "import numpy as np\n",
    "\n",
    "#API calls\n",
    "def get_data():\n",
    "    '''\n",
    "    Returns DataFrame with housing maintenance code complaints dataset (only records with status dates after 2014, \n",
    "    and statusid = 2)\n",
    "    '''\n",
    "    query = (\"https://data.cityofnewyork.us/resource/jspd-2hr7.json?statusid=2\"\n",
    "             \"&$where=statusdate%20between%20'2014-01-01T00:00:00'%20and%20'2015-10-01T00:00:00'\"\n",
    "             \"&$limit=1000\")\n",
    "    hmc_complaints = pd.read_json(query)\n",
    "    i = 1 \n",
    "    more_data_available = True\n",
    "    while more_data_available:\n",
    "        query = (\"https://data.cityofnewyork.us/resource/jspd-2hr7.json?statusid=2\"\n",
    "                 \"&$where=statusdate%20between%20'2014-01-01T00:00:00'%20and%20'2015-10-01T00:00:00'\"\n",
    "                 \"&$limit=1000&$order=:id&$offset=\" + str(i*1000))\n",
    "        more_data = pd.read_json(query)\n",
    "        hmc_complaints = pd.concat([hmc_complaints, more_data],ignore_index=True)\n",
    "        print 'Currently have ', len(hmc_complaints), ' records'\n",
    "        i += 1\n",
    "        \n",
    "        if len(more_data) < 1000:\n",
    "            more_data_available = False\n",
    "    return pd.DataFrame(hmc_complaints)\n",
    "\n",
    "\n",
    "#API approach\n",
    "data = get_data()\n",
    "print data.shape.head(5)"
   ]
  },
  {
   "cell_type": "code",
   "execution_count": 18,
   "metadata": {
    "collapsed": false
   },
   "outputs": [],
   "source": [
    "#Standart approach\n",
    "\n",
    "data = pd.read_csv(\"Data_Housing_maintenance_code_complaints.csv\")"
   ]
  },
  {
   "cell_type": "code",
   "execution_count": 19,
   "metadata": {
    "collapsed": false
   },
   "outputs": [
    {
     "name": "stdout",
     "output_type": "stream",
     "text": [
      "   ComplaintID  BoroughID  Block  Lot         BBL\n",
      "0      6960137          1   1904    4  1019040004\n",
      "1      6960832          1   1918    4  1019180004\n",
      "2      6946867          1   1083    1  1010830001\n",
      "3      6966946          1   2073   29  1020730029\n",
      "4      6963755          1   1869   44  1018690044\n"
     ]
    }
   ],
   "source": [
    "def make_BBL(borough, block, lot): \n",
    "    '''\n",
    "    The borough code is one numeric digit. \n",
    "    The tax block is one to five numeric digits, preceded with leading zeros \n",
    "    when the block is less than five digits.\n",
    "    The tax lot is one to four digits and is preceded with leading zeros\n",
    "    when the lot is less than four digits.\n",
    "    \n",
    "    >>> make_BBL(1,16,100)\n",
    "    1000160100\n",
    "    >>> make_BBL(3,15828,7501)\n",
    "    3158287501\n",
    "    '''\n",
    "    return int(str(borough) + str(block).zfill(5) + str(lot).zfill(4))\n",
    "    \n",
    "data = data[['ComplaintID', 'BoroughID', 'Block', 'Lot']]\n",
    "data['BBL'] = map(make_BBL, data['BoroughID'], data['Block'], data['Lot'])\n",
    "print data.head(n = 5)"
   ]
  },
  {
   "cell_type": "code",
   "execution_count": 20,
   "metadata": {
    "collapsed": false
   },
   "outputs": [
    {
     "data": {
      "text/plain": [
       "(428506, 5)"
      ]
     },
     "execution_count": 20,
     "metadata": {},
     "output_type": "execute_result"
    }
   ],
   "source": [
    "data.shape"
   ]
  },
  {
   "cell_type": "markdown",
   "metadata": {},
   "source": [
    "Check the number of unique ComplaintIDs. \n",
    "There is a mismatch for unique values on this field between HMCC(428506 unique) and HPDCP(410133 unique)"
   ]
  },
  {
   "cell_type": "code",
   "execution_count": 30,
   "metadata": {
    "collapsed": false
   },
   "outputs": [
    {
     "data": {
      "text/plain": [
       "410133"
      ]
     },
     "execution_count": 30,
     "metadata": {},
     "output_type": "execute_result"
    }
   ],
   "source": [
    "qq = complaint_problems_proc['ComplaintID']\n",
    "qq = qq.unique()\n",
    "len(qq)"
   ]
  },
  {
   "cell_type": "markdown",
   "metadata": {},
   "source": [
    "Merge matching ComplaintIDs on complaint_problems_proc and data (inner join)"
   ]
  },
  {
   "cell_type": "code",
   "execution_count": 31,
   "metadata": {
    "collapsed": true
   },
   "outputs": [],
   "source": [
    "result_hmcc_and_hpdcp = pd.merge(complaint_problems_proc, data, on='ComplaintID', how='inner')"
   ]
  },
  {
   "cell_type": "code",
   "execution_count": null,
   "metadata": {
    "collapsed": true
   },
   "outputs": [],
   "source": [
    "Shape after merging"
   ]
  },
  {
   "cell_type": "code",
   "execution_count": 33,
   "metadata": {
    "collapsed": false
   },
   "outputs": [
    {
     "data": {
      "text/plain": [
       "(718547, 14)"
      ]
     },
     "execution_count": 33,
     "metadata": {},
     "output_type": "execute_result"
    }
   ],
   "source": [
    "result_hmcc_and_hpdcp.shape"
   ]
  },
  {
   "cell_type": "code",
   "execution_count": 34,
   "metadata": {
    "collapsed": false
   },
   "outputs": [
    {
     "data": {
      "text/html": [
       "<div>\n",
       "<table border=\"1\" class=\"dataframe\">\n",
       "  <thead>\n",
       "    <tr style=\"text-align: right;\">\n",
       "      <th></th>\n",
       "      <th>ProblemID</th>\n",
       "      <th>ComplaintID</th>\n",
       "      <th>UnitTypeID</th>\n",
       "      <th>SpaceTypeID</th>\n",
       "      <th>TypeID</th>\n",
       "      <th>MajorCategoryID</th>\n",
       "      <th>MinorCategoryID</th>\n",
       "      <th>CodeID</th>\n",
       "      <th>StatusDate</th>\n",
       "      <th>StatusDescriptionID</th>\n",
       "      <th>BoroughID</th>\n",
       "      <th>Block</th>\n",
       "      <th>Lot</th>\n",
       "      <th>BBL</th>\n",
       "    </tr>\n",
       "  </thead>\n",
       "  <tbody>\n",
       "    <tr>\n",
       "      <th>0</th>\n",
       "      <td>14603248</td>\n",
       "      <td>6991025</td>\n",
       "      <td>91</td>\n",
       "      <td>541</td>\n",
       "      <td>1</td>\n",
       "      <td>9</td>\n",
       "      <td>65</td>\n",
       "      <td>624</td>\n",
       "      <td>2014-09-13</td>\n",
       "      <td>3</td>\n",
       "      <td>2</td>\n",
       "      <td>2794</td>\n",
       "      <td>15</td>\n",
       "      <td>2027940015</td>\n",
       "    </tr>\n",
       "    <tr>\n",
       "      <th>1</th>\n",
       "      <td>14603246</td>\n",
       "      <td>6991025</td>\n",
       "      <td>91</td>\n",
       "      <td>546</td>\n",
       "      <td>1</td>\n",
       "      <td>65</td>\n",
       "      <td>380</td>\n",
       "      <td>2828</td>\n",
       "      <td>2014-09-13</td>\n",
       "      <td>3</td>\n",
       "      <td>2</td>\n",
       "      <td>2794</td>\n",
       "      <td>15</td>\n",
       "      <td>2027940015</td>\n",
       "    </tr>\n",
       "    <tr>\n",
       "      <th>2</th>\n",
       "      <td>14603247</td>\n",
       "      <td>6991025</td>\n",
       "      <td>91</td>\n",
       "      <td>541</td>\n",
       "      <td>1</td>\n",
       "      <td>9</td>\n",
       "      <td>63</td>\n",
       "      <td>2538</td>\n",
       "      <td>2014-09-13</td>\n",
       "      <td>3</td>\n",
       "      <td>2</td>\n",
       "      <td>2794</td>\n",
       "      <td>15</td>\n",
       "      <td>2027940015</td>\n",
       "    </tr>\n",
       "    <tr>\n",
       "      <th>3</th>\n",
       "      <td>14643878</td>\n",
       "      <td>7007545</td>\n",
       "      <td>91</td>\n",
       "      <td>543</td>\n",
       "      <td>1</td>\n",
       "      <td>59</td>\n",
       "      <td>348</td>\n",
       "      <td>2834</td>\n",
       "      <td>2014-09-03</td>\n",
       "      <td>5</td>\n",
       "      <td>2</td>\n",
       "      <td>2809</td>\n",
       "      <td>31</td>\n",
       "      <td>2028090031</td>\n",
       "    </tr>\n",
       "    <tr>\n",
       "      <th>4</th>\n",
       "      <td>14630215</td>\n",
       "      <td>7000457</td>\n",
       "      <td>91</td>\n",
       "      <td>541</td>\n",
       "      <td>3</td>\n",
       "      <td>65</td>\n",
       "      <td>381</td>\n",
       "      <td>2831</td>\n",
       "      <td>2014-10-24</td>\n",
       "      <td>1</td>\n",
       "      <td>2</td>\n",
       "      <td>3739</td>\n",
       "      <td>55</td>\n",
       "      <td>2037390055</td>\n",
       "    </tr>\n",
       "    <tr>\n",
       "      <th>5</th>\n",
       "      <td>14548958</td>\n",
       "      <td>6967900</td>\n",
       "      <td>91</td>\n",
       "      <td>541</td>\n",
       "      <td>1</td>\n",
       "      <td>9</td>\n",
       "      <td>63</td>\n",
       "      <td>2538</td>\n",
       "      <td>2014-07-29</td>\n",
       "      <td>3</td>\n",
       "      <td>2</td>\n",
       "      <td>2841</td>\n",
       "      <td>14</td>\n",
       "      <td>2028410014</td>\n",
       "    </tr>\n",
       "  </tbody>\n",
       "</table>\n",
       "</div>"
      ],
      "text/plain": [
       "   ProblemID  ComplaintID  UnitTypeID  SpaceTypeID  TypeID  MajorCategoryID  \\\n",
       "0   14603248      6991025          91          541       1                9   \n",
       "1   14603246      6991025          91          546       1               65   \n",
       "2   14603247      6991025          91          541       1                9   \n",
       "3   14643878      7007545          91          543       1               59   \n",
       "4   14630215      7000457          91          541       3               65   \n",
       "5   14548958      6967900          91          541       1                9   \n",
       "\n",
       "   MinorCategoryID  CodeID StatusDate  StatusDescriptionID  BoroughID  Block  \\\n",
       "0               65     624 2014-09-13                    3          2   2794   \n",
       "1              380    2828 2014-09-13                    3          2   2794   \n",
       "2               63    2538 2014-09-13                    3          2   2794   \n",
       "3              348    2834 2014-09-03                    5          2   2809   \n",
       "4              381    2831 2014-10-24                    1          2   3739   \n",
       "5               63    2538 2014-07-29                    3          2   2841   \n",
       "\n",
       "   Lot         BBL  \n",
       "0   15  2027940015  \n",
       "1   15  2027940015  \n",
       "2   15  2027940015  \n",
       "3   31  2028090031  \n",
       "4   55  2037390055  \n",
       "5   14  2028410014  "
      ]
     },
     "execution_count": 34,
     "metadata": {},
     "output_type": "execute_result"
    }
   ],
   "source": [
    "result_hmcc_and_hpdcp.head(6)"
   ]
  },
  {
   "cell_type": "markdown",
   "metadata": {},
   "source": [
    "Count the number of occurrences for ComplaintID = 6991025"
   ]
  },
  {
   "cell_type": "code",
   "execution_count": null,
   "metadata": {
    "collapsed": true
   },
   "outputs": [],
   "source": [
    "gg = (complaint_problems_proc['ComplaintID'] == 6991025).sum()\n",
    "gg"
   ]
  }
 ],
 "metadata": {
  "kernelspec": {
   "display_name": "Python 2",
   "language": "python",
   "name": "python2"
  },
  "language_info": {
   "codemirror_mode": {
    "name": "ipython",
    "version": 2
   },
   "file_extension": ".py",
   "mimetype": "text/x-python",
   "name": "python",
   "nbconvert_exporter": "python",
   "pygments_lexer": "ipython2",
   "version": "2.7.10"
  }
 },
 "nbformat": 4,
 "nbformat_minor": 0
}
