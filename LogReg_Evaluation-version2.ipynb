{
 "cells": [
  {
   "cell_type": "markdown",
   "metadata": {},
   "source": [
    "Building a Logistic Regression Classifier"
   ]
  },
  {
   "cell_type": "code",
   "execution_count": 1,
   "metadata": {
    "collapsed": false,
    "scrolled": true
   },
   "outputs": [],
   "source": [
    "#Read the train data\n",
    "import pandas as pd\n",
    "\n",
    "data_train = pd.read_csv('data_train.csv')\n",
    "data_train = data_train.drop(['Unnamed: 0'], axis=1)"
   ]
  },
  {
   "cell_type": "code",
   "execution_count": 2,
   "metadata": {
    "collapsed": false,
    "scrolled": true
   },
   "outputs": [
    {
     "name": "stdout",
     "output_type": "stream",
     "text": [
      "Fitting 3 folds for each of 10 candidates, totalling 30 fits\n",
      "[CV] penalty=l1, C=1e-30, dual=False, solver=liblinear ...............\n",
      "[CV]  penalty=l1, C=1e-30, dual=False, solver=liblinear, score=0.500000 -   1.5s\n",
      "[CV] penalty=l1, C=1e-30, dual=False, solver=liblinear ...............\n",
      "[CV]  penalty=l1, C=1e-30, dual=False, solver=liblinear, score=0.500000 -   1.2s\n",
      "[CV] penalty=l1, C=1e-30, dual=False, solver=liblinear ...............\n",
      "[CV]  penalty=l1, C=1e-30, dual=False, solver=liblinear, score=0.500000 -   1.1s\n",
      "[CV] penalty=l2, C=1e-30, dual=False, solver=liblinear ...............\n",
      "[CV]  penalty=l2, C=1e-30, dual=False, solver=liblinear, score=0.500000 -   1.0s\n",
      "[CV] penalty=l2, C=1e-30, dual=False, solver=liblinear ...............\n",
      "[CV]  penalty=l2, C=1e-30, dual=False, solver=liblinear, score=0.500000 -   1.4s\n",
      "[CV] penalty=l2, C=1e-30, dual=False, solver=liblinear ...............\n",
      "[CV]  penalty=l2, C=1e-30, dual=False, solver=liblinear, score=0.500000 -   1.0s\n",
      "[CV] penalty=l1, C=3.16227766017e-18, dual=False, solver=liblinear ...\n",
      "[CV]  penalty=l1, C=3.16227766017e-18, dual=False, solver=liblinear, score=0.500000 -   1.1s\n",
      "[CV] penalty=l1, C=3.16227766017e-18, dual=False, solver=liblinear ...\n",
      "[CV]  penalty=l1, C=3.16227766017e-18, dual=False, solver=liblinear, score=0.500000 -   1.3s\n",
      "[CV] penalty=l1, C=3.16227766017e-18, dual=False, solver=liblinear ...\n",
      "[CV]  penalty=l1, C=3.16227766017e-18, dual=False, solver=liblinear, score=0.500000 -   1.4s\n",
      "[CV] penalty=l2, C=3.16227766017e-18, dual=False, solver=liblinear ...\n",
      "[CV]  penalty=l2, C=3.16227766017e-18, dual=False, solver=liblinear, score=0.500000 -   1.1s\n",
      "[CV] penalty=l2, C=3.16227766017e-18, dual=False, solver=liblinear ...\n",
      "[CV]  penalty=l2, C=3.16227766017e-18, dual=False, solver=liblinear, score=0.500000 -   1.5s\n",
      "[CV] penalty=l2, C=3.16227766017e-18, dual=False, solver=liblinear ...\n",
      "[CV]  penalty=l2, C=3.16227766017e-18, dual=False, solver=liblinear, score=0.500000 -   1.1s\n",
      "[CV] penalty=l1, C=1e-05, dual=False, solver=liblinear ...............\n",
      "[CV]  penalty=l1, C=1e-05, dual=False, solver=liblinear, score=0.500000 -   1.1s\n",
      "[CV] penalty=l1, C=1e-05, dual=False, solver=liblinear ...............\n",
      "[CV]  penalty=l1, C=1e-05, dual=False, solver=liblinear, score=0.500000 -   1.3s\n",
      "[CV] penalty=l1, C=1e-05, dual=False, solver=liblinear ...............\n",
      "[CV]  penalty=l1, C=1e-05, dual=False, solver=liblinear, score=0.500000 -   1.2s\n",
      "[CV] penalty=l2, C=1e-05, dual=False, solver=liblinear ...............\n",
      "[CV]  penalty=l2, C=1e-05, dual=False, solver=liblinear, score=0.722184 -   1.2s\n",
      "[CV] penalty=l2, C=1e-05, dual=False, solver=liblinear ...............\n",
      "[CV]  penalty=l2, C=1e-05, dual=False, solver=liblinear, score=0.719704 -   1.3s\n",
      "[CV] penalty=l2, C=1e-05, dual=False, solver=liblinear ...............\n",
      "[CV]  penalty=l2, C=1e-05, dual=False, solver=liblinear, score=0.721499 -   1.3s\n",
      "[CV] penalty=l1, C=31622776.6017, dual=False, solver=liblinear .......\n",
      "[CV]  penalty=l1, C=31622776.6017, dual=False, solver=liblinear, score=0.775982 -  24.4s\n",
      "[CV] penalty=l1, C=31622776.6017, dual=False, solver=liblinear .......\n",
      "[CV]  penalty=l1, C=31622776.6017, dual=False, solver=liblinear, score=0.776054 -  40.5s\n",
      "[CV] penalty=l1, C=31622776.6017, dual=False, solver=liblinear .......\n",
      "[CV]  penalty=l1, C=31622776.6017, dual=False, solver=liblinear, score=0.781671 -  25.4s\n",
      "[CV] penalty=l2, C=31622776.6017, dual=False, solver=liblinear .......\n",
      "[CV]  penalty=l2, C=31622776.6017, dual=False, solver=liblinear, score=0.776012 -  29.9s\n",
      "[CV] penalty=l2, C=31622776.6017, dual=False, solver=liblinear .......\n",
      "[CV]  penalty=l2, C=31622776.6017, dual=False, solver=liblinear, score=0.776049 -  31.0s\n",
      "[CV] penalty=l2, C=31622776.6017, dual=False, solver=liblinear .......\n",
      "[CV]  penalty=l2, C=31622776.6017, dual=False, solver=liblinear, score=0.781687 -  28.5s\n",
      "[CV] penalty=l1, C=1e+20, dual=False, solver=liblinear ...............\n",
      "[CV]  penalty=l1, C=1e+20, dual=False, solver=liblinear, score=0.775982 -  20.3s\n",
      "[CV] penalty=l1, C=1e+20, dual=False, solver=liblinear ...............\n",
      "[CV]  penalty=l1, C=1e+20, dual=False, solver=liblinear, score=0.776056 -  34.6s\n",
      "[CV] penalty=l1, C=1e+20, dual=False, solver=liblinear ...............\n",
      "[CV]  penalty=l1, C=1e+20, dual=False, solver=liblinear, score=0.781672 -  28.0s\n",
      "[CV] penalty=l2, C=1e+20, dual=False, solver=liblinear ...............\n",
      "[CV]  penalty=l2, C=1e+20, dual=False, solver=liblinear, score=0.776011 -  23.3s\n",
      "[CV] penalty=l2, C=1e+20, dual=False, solver=liblinear ...............\n",
      "[CV]  penalty=l2, C=1e+20, dual=False, solver=liblinear, score=0.776050 -  19.1s\n",
      "[CV] penalty=l2, C=1e+20, dual=False, solver=liblinear ...............\n",
      "[CV]  penalty=l2, C=1e+20, dual=False, solver=liblinear, score=0.781687 -  22.5s"
     ]
    },
    {
     "name": "stderr",
     "output_type": "stream",
     "text": [
      "[Parallel(n_jobs=1)]: Done   1 jobs       | elapsed:    1.6s\n",
      "[Parallel(n_jobs=1)]: Done  30 out of  30 | elapsed:  5.9min finished\n"
     ]
    },
    {
     "name": "stdout",
     "output_type": "stream",
     "text": [
      "\n"
     ]
    },
    {
     "data": {
      "text/plain": [
       "GridSearchCV(cv=None, error_score='raise',\n",
       "       estimator=LogisticRegression(C=1.0, class_weight=None, dual=False, fit_intercept=True,\n",
       "          intercept_scaling=1, max_iter=100, multi_class='ovr',\n",
       "          penalty='l2', random_state=None, solver='liblinear', tol=0.0001,\n",
       "          verbose=0),\n",
       "       fit_params={}, iid=True, loss_func=None, n_jobs=1,\n",
       "       param_grid={'penalty': ['l1', 'l2'], 'C': array([  1.00000e-30,   3.16228e-18,   1.00000e-05,   3.16228e+07,\n",
       "         1.00000e+20]), 'dual': [False], 'solver': ['liblinear']},\n",
       "       pre_dispatch='2*n_jobs', refit=True, score_func=None,\n",
       "       scoring='roc_auc', verbose=3)"
      ]
     },
     "execution_count": 2,
     "metadata": {},
     "output_type": "execute_result"
    }
   ],
   "source": [
    "#Establish the parameters for GridSearch evaluation\n",
    "from sklearn.grid_search import GridSearchCV\n",
    "from sklearn.linear_model import LogisticRegression\n",
    "import numpy as np\n",
    "\n",
    "c_values = np.logspace(-30,20,5)\n",
    "param_grid = {'C': c_values, 'penalty': ['l1','l2'], 'dual': [False], 'solver': ['liblinear']}\n",
    "grid_search = GridSearchCV(LogisticRegression(), param_grid, scoring = 'roc_auc', verbose = 3)\n",
    "grid_search.fit(data_train.drop('Y', axis=1), data_train.Y)"
   ]
  },
  {
   "cell_type": "code",
   "execution_count": 3,
   "metadata": {
    "collapsed": false
   },
   "outputs": [],
   "source": [
    "#Read the validation data \n",
    "data_validation = pd.read_csv('data_validation.csv')\n",
    "data_validation = data_validation.drop(['Unnamed: 0'], axis=1)"
   ]
  },
  {
   "cell_type": "code",
   "execution_count": 4,
   "metadata": {
    "collapsed": false
   },
   "outputs": [
    {
     "name": "stderr",
     "output_type": "stream",
     "text": [
      "/Users/Rafa/anaconda2/lib/python2.7/site-packages/sklearn/grid_search.py:370: ChangedBehaviorWarning: The long-standing behavior to use the estimator's score function in GridSearchCV.score has changed. The scoring parameter is now used.\n",
      "  ChangedBehaviorWarning)\n"
     ]
    },
    {
     "data": {
      "text/plain": [
       "0.7786002944645295"
      ]
     },
     "execution_count": 4,
     "metadata": {},
     "output_type": "execute_result"
    }
   ],
   "source": [
    "#Apply GridSearch to validation data and compute score\n",
    "from sklearn.metrics import roc_auc_score\n",
    "\n",
    "grid_search.predict_proba(data_validation.drop('Y', axis=1))\n",
    "grid_search.score(data_validation.drop('Y', axis=1), data_validation.Y)\n",
    "#auc_score = roc_auc_score(data_validation.Y, logreg.predict_proba(data_validation.drop('Y', axis=1))[:, 1])\n"
   ]
  },
  {
   "cell_type": "code",
   "execution_count": 5,
   "metadata": {
    "collapsed": false
   },
   "outputs": [
    {
     "data": {
      "text/plain": [
       "{'C': 1e+20, 'dual': False, 'penalty': 'l2', 'solver': 'liblinear'}"
      ]
     },
     "execution_count": 5,
     "metadata": {},
     "output_type": "execute_result"
    }
   ],
   "source": [
    "#Extract the best parameters from GridSearch\n",
    "grid_search.best_params_"
   ]
  },
  {
   "cell_type": "code",
   "execution_count": 6,
   "metadata": {
    "collapsed": false
   },
   "outputs": [],
   "source": [
    "#Build function to plot ROC curve\n",
    "from sklearn.metrics import roc_curve, auc\n",
    "import matplotlib.pyplot as plt \n",
    "%matplotlib inline\n",
    "\n",
    "def plotAUC(truth, pred, lab):\n",
    "    fpr, tpr, thresholds = roc_curve(truth, pred)\n",
    "    roc_auc = auc(fpr, tpr)\n",
    "    c = (np.random.rand(), np.random.rand(), np.random.rand())\n",
    "    plt.plot(fpr, tpr, color=c, label= lab+' (AUC = %0.2f)' % roc_auc)\n",
    "    plt.plot([0, 1], [0, 1], 'k--')\n",
    "    plt.xlim([0.0, 1.0])\n",
    "    plt.ylim([0.0, 1.0])\n",
    "    plt.xlabel('FPR')\n",
    "    plt.ylabel('TPR')\n",
    "    plt.title('ROC')\n",
    "    plt.legend(loc=\"lower right\")"
   ]
  },
  {
   "cell_type": "code",
   "execution_count": 7,
   "metadata": {
    "collapsed": false
   },
   "outputs": [
    {
     "data": {
      "image/png": "[encoded data removed]",
      "text/plain": [
       "<matplotlib.figure.Figure at 0x105ee9dd0>"
      ]
     },
     "metadata": {},
     "output_type": "display_data"
    }
   ],
   "source": [
    "#Apply classifier having the best parameters on validation data and plot ROC curve\n",
    "logreg = LogisticRegression(C=0.39069399370546209, dual=False, penalty='l2', solver='liblinear')\n",
    "logreg.fit(data_train.drop('Y', axis=1), data_train.Y)\n",
    "\n",
    "plotAUC(data_validation.Y, logreg.predict_proba(data_validation.drop('Y', axis=1))[:,1], 'LR')    \n",
    "plt.show()"
   ]
  },
  {
   "cell_type": "code",
   "execution_count": null,
   "metadata": {
    "collapsed": false
   },
   "outputs": [],
   "source": [
    "datae = data_train.corr() > .2"
   ]
  },
  {
   "cell_type": "code",
   "execution_count": null,
   "metadata": {
    "collapsed": false
   },
   "outputs": [],
   "source": [
    "datae"
   ]
  },
  {
   "cell_type": "code",
   "execution_count": null,
   "metadata": {
    "collapsed": true
   },
   "outputs": [],
   "source": []
  }
 ],
 "metadata": {
  "kernelspec": {
   "display_name": "Python 2",
   "language": "python",
   "name": "python2"
  },
  "language_info": {
   "codemirror_mode": {
    "name": "ipython",
    "version": 2
   },
   "file_extension": ".py",
   "mimetype": "text/x-python",
   "name": "python",
   "nbconvert_exporter": "python",
   "pygments_lexer": "ipython2",
   "version": "2.7.10"
  }
 },
 "nbformat": 4,
 "nbformat_minor": 0
}
