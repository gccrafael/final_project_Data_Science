{
 "cells": [
  {
   "cell_type": "code",
   "execution_count": 1,
   "metadata": {
    "collapsed": false
   },
   "outputs": [
    {
     "name": "stdout",
     "output_type": "stream",
     "text": [
      "(304561, 215)\n",
      "(152280, 215)\n",
      "(152281, 215)\n"
     ]
    }
   ],
   "source": [
    "import numpy as np\n",
    "import pandas as pd\n",
    "from sklearn.tree import DecisionTreeClassifier\n",
    "from sklearn import tree\n",
    "from sklearn import metrics\n",
    "\n",
    "\n",
    "data_train = pd.read_csv('data/data_train.csv')\n",
    "data_validation = pd.read_csv('data/data_validation.csv')\n",
    "data_test = pd.read_csv('data/data_test.csv')\n",
    "print data_train.shape\n",
    "print data_validation.shape\n",
    "print data_test.shape"
   ]
  },
  {
   "cell_type": "code",
   "execution_count": 2,
   "metadata": {
    "collapsed": false
   },
   "outputs": [
    {
     "name": "stdout",
     "output_type": "stream",
     "text": [
      "(304561, 214)\n",
      "(152280, 214)\n",
      "(152281, 214)\n"
     ]
    }
   ],
   "source": [
    "#drop unnamed column:\n",
    "data_train = data_train.drop('Unnamed: 0', axis = 1)\n",
    "data_validation = data_validation.drop('Unnamed: 0', axis = 1)\n",
    "data_test = data_test.drop('Unnamed: 0', axis = 1)\n",
    "\n",
    "print data_train.shape\n",
    "print data_validation.shape\n",
    "print data_test.shape"
   ]
  },
  {
   "cell_type": "code",
   "execution_count": 3,
   "metadata": {
    "collapsed": false
   },
   "outputs": [
    {
     "name": "stdout",
     "output_type": "stream",
     "text": [
      "(304561, 213)\n",
      "(304561,)\n",
      "(152280, 213)\n",
      "(152280,)\n",
      "(152281, 213)\n",
      "(152281,)\n",
      "(456841, 213)\n",
      "(456841,)\n"
     ]
    }
   ],
   "source": [
    "X_train = data_train.drop('Y', 1)\n",
    "Y_train = data_train.Y\n",
    "X_validation = data_validation.drop('Y', 1)\n",
    "Y_validation = data_validation.Y\n",
    "X_test = data_test.drop('Y', 1)\n",
    "Y_test = data_test.Y\n",
    "\n",
    "#merge training and validation sets for final modeling\n",
    "data_train_and_validation = pd.concat([data_train, data_validation])\n",
    "X_train_and_validation = data_train_and_validation.drop('Y', 1)\n",
    "Y_train_and_validation = data_train_and_validation.Y\n",
    "\n",
    "print X_train.shape\n",
    "print Y_train.shape\n",
    "print X_validation.shape\n",
    "print Y_validation.shape\n",
    "print X_test.shape\n",
    "print Y_test.shape\n",
    "print X_train_and_validation.shape\n",
    "print Y_train_and_validation.shape"
   ]
  },
  {
   "cell_type": "code",
   "execution_count": 4,
   "metadata": {
    "collapsed": false
   },
   "outputs": [
    {
     "data": {
      "text/plain": [
       "DecisionTreeClassifier(class_weight=None, criterion='entropy', max_depth=None,\n",
       "            max_features=None, max_leaf_nodes=None, min_samples_leaf=1,\n",
       "            min_samples_split=2, min_weight_fraction_leaf=0.0,\n",
       "            random_state=None, splitter='best')"
      ]
     },
     "execution_count": 4,
     "metadata": {},
     "output_type": "execute_result"
    }
   ],
   "source": [
    "#OUT-OF-BOX DT\n",
    "\n",
    "decision_tree = DecisionTreeClassifier(criterion=\"entropy\")\n",
    "decision_tree.fit(X_train, Y_train)"
   ]
  },
  {
   "cell_type": "code",
   "execution_count": 5,
   "metadata": {
    "collapsed": false
   },
   "outputs": [
    {
     "data": {
      "image/png": "[encoded data removed]",
      "text/plain": [
       "<matplotlib.figure.Figure at 0x7f2f63bbe190>"
      ]
     },
     "metadata": {},
     "output_type": "display_data"
    }
   ],
   "source": [
    "import matplotlib.pyplot as plt\n",
    "%matplotlib inline\n",
    "\n",
    "features = decision_tree.feature_importances_\n",
    "indexes_of_important_features = np.where(features > 0.01)\n",
    "features = features[indexes_of_important_features]\n",
    "\n",
    "feature_names = X_train.columns.values[indexes_of_important_features]\n",
    "\n",
    "index = np.arange(len(features))\n",
    "rects = plt.bar(index, features, 0.5, alpha=0.4, color='b', error_kw={'ecolor': '0.3'})\n",
    "\n",
    "plt.xlabel('Feature names')\n",
    "plt.ylabel('Feature importance')\n",
    "plt.title('Features by importance')\n",
    "plt.xticks(index + 0.3, feature_names, rotation='vertical')\n",
    "\n",
    "plt.show()"
   ]
  },
  {
   "cell_type": "code",
   "execution_count": 6,
   "metadata": {
    "collapsed": false
   },
   "outputs": [
    {
     "name": "stdout",
     "output_type": "stream",
     "text": [
      "result for OUT-OF-BOX DT\n",
      "AUC training set 1.000.\n",
      "AUC validation set 0.636.\n"
     ]
    }
   ],
   "source": [
    "from sklearn.metrics import roc_auc_score\n",
    "\n",
    "print \"result for OUT-OF-BOX DT\"\n",
    "print \"AUC training set %.3f.\" % roc_auc_score(Y_train, decision_tree.predict_proba(X_train)[:,1]) \n",
    "print \"AUC validation set %.3f.\" % roc_auc_score(Y_validation, decision_tree.predict_proba(X_validation)[:,1])"
   ]
  },
  {
   "cell_type": "code",
   "execution_count": 7,
   "metadata": {
    "collapsed": false
   },
   "outputs": [
    {
     "name": "stdout",
     "output_type": "stream",
     "text": [
      "[   2    4   10   25   59  138  322  752 1755 4096]\n",
      "[4096 1755  752  322  138   59   25   10    4    2]\n"
     ]
    }
   ],
   "source": [
    "min_samples_split_values = (np.logspace(1, 12, num=10, base=2)).astype(int)\n",
    "min_samples_leaf_values = (np.logspace(1, 12, num=10, base=2)).astype(int)[::-1]\n",
    "\n",
    "print min_samples_split_values\n",
    "print min_samples_leaf_values"
   ]
  },
  {
   "cell_type": "code",
   "execution_count": 8,
   "metadata": {
    "collapsed": false
   },
   "outputs": [
    {
     "name": "stdout",
     "output_type": "stream",
     "text": [
      "DONE\n"
     ]
    }
   ],
   "source": [
    "import matplotlib.pyplot as plt\n",
    "%matplotlib inline\n",
    "\n",
    "aucs = dict()\n",
    "for leaf in min_samples_leaf_values:\n",
    "    aucs[leaf] = list()\n",
    "\n",
    "#Train and calculate accuracy for each option\n",
    "for leaf in min_samples_leaf_values: \n",
    "    for split in min_samples_split_values:\n",
    "        decision_tree = DecisionTreeClassifier(criterion=\"entropy\", min_samples_split=split, min_samples_leaf=leaf)\n",
    "        decision_tree.fit(X_train, Y_train)\n",
    "        aucs[leaf].append(roc_auc_score(Y_validation, decision_tree.predict_proba(X_validation)[:,1]))\n",
    "\n",
    "print \"DONE\"    "
   ]
  },
  {
   "cell_type": "code",
   "execution_count": 9,
   "metadata": {
    "collapsed": false
   },
   "outputs": [
    {
     "data": {
      "image/png": "[encoded data removed]",
      "text/plain": [
       "<matplotlib.figure.Figure at 0x7f2f8c613590>"
      ]
     },
     "metadata": {},
     "output_type": "display_data"
    }
   ],
   "source": [
    "markers = ['b--', 'g-', 'r-', 'c-', 'm-', 'y-', 'k-', 'b-', 'g--', 'r--']\n",
    "\n",
    "for i in range(len(markers)):\n",
    "    plt.plot(min_samples_split_values, aucs[min_samples_leaf_values[i]], markers[i], label='Min Leaf Size = {}'.format(min_samples_leaf_values[i]))\n",
    "\n",
    "\n",
    "plt.legend(bbox_to_anchor=(1.05, 1), loc=2, borderaxespad=0.)\n",
    "plt.xlabel('Min Split Size')\n",
    "plt.ylabel('Test Set AUC')\n",
    "plt.title('AUC by Hyperparameters')\n",
    "plt.ylim([0.65,0.79])\n",
    "plt.show()\n"
   ]
  },
  {
   "cell_type": "code",
   "execution_count": 10,
   "metadata": {
    "collapsed": false
   },
   "outputs": [
    {
     "name": "stdout",
     "output_type": "stream",
     "text": [
      "opt hyperparam, DT, train on train+val, test on the test set\n",
      "AUC training_and_val set 0.811.\n",
      "AUC test set 0.778.\n"
     ]
    }
   ],
   "source": [
    "#build DT based on optimal hyperparameters found above\n",
    "\n",
    "split_opt = 2\n",
    "leaf_opt = 138\n",
    "decision_tree = DecisionTreeClassifier(criterion=\"entropy\", min_samples_split=split_opt, min_samples_leaf=leaf_opt)\n",
    "decision_tree.fit(X_train_and_validation, Y_train_and_validation)\n",
    "\n",
    "print \"opt hyperparam, DT, train on train+val, test on the test set\"\n",
    "print \"AUC training_and_val set %.3f.\" % roc_auc_score(Y_train_and_validation, decision_tree.predict_proba(X_train_and_validation)[:,1]) \n",
    "print \"AUC test set %.3f.\" % roc_auc_score(Y_test, decision_tree.predict_proba(X_test)[:,1])"
   ]
  },
  {
   "cell_type": "code",
   "execution_count": 11,
   "metadata": {
    "collapsed": false
   },
   "outputs": [
    {
     "data": {
      "text/plain": [
       "GridSearchCV(cv=None, error_score='raise',\n",
       "       estimator=DecisionTreeClassifier(class_weight=None, criterion='entropy', max_depth=None,\n",
       "            max_features=None, max_leaf_nodes=None, min_samples_leaf=1,\n",
       "            min_samples_split=2, min_weight_fraction_leaf=0.0,\n",
       "            random_state=None, splitter='best'),\n",
       "       fit_params={}, iid=True, loss_func=None, n_jobs=1,\n",
       "       param_grid={'min_samples_split': array([   2,    4,   10,   25,   59,  138,  322,  752, 1755, 4096]), 'min_samples_leaf': array([4096, 1755,  752,  322,  138,   59,   25,   10,    4,    2])},\n",
       "       pre_dispatch='2*n_jobs', refit=True, score_func=None, scoring=None,\n",
       "       verbose=0)"
      ]
     },
     "execution_count": 11,
     "metadata": {},
     "output_type": "execute_result"
    }
   ],
   "source": [
    "#gridSearch for DT\n",
    "from sklearn import grid_search\n",
    "parameters = {'min_samples_split':min_samples_split_values, 'min_samples_leaf':min_samples_leaf_values}\n",
    "decision_tree = DecisionTreeClassifier(criterion=\"entropy\")\n",
    "clf_tree = grid_search.GridSearchCV(decision_tree, parameters)\n",
    "clf_tree.fit(X_train_and_validation, Y_train_and_validation)"
   ]
  },
  {
   "cell_type": "code",
   "execution_count": 12,
   "metadata": {
    "collapsed": false
   },
   "outputs": [
    {
     "name": "stdout",
     "output_type": "stream",
     "text": [
      "GridSearchCV(cv=None, error_score='raise',\n",
      "       estimator=DecisionTreeClassifier(class_weight=None, criterion='entropy', max_depth=None,\n",
      "            max_features=None, max_leaf_nodes=None, min_samples_leaf=1,\n",
      "            min_samples_split=2, min_weight_fraction_leaf=0.0,\n",
      "            random_state=None, splitter='best'),\n",
      "       fit_params={}, iid=True, loss_func=None, n_jobs=1,\n",
      "       param_grid={'min_samples_split': array([   2,    4,   10,   25,   59,  138,  322,  752, 1755, 4096]), 'min_samples_leaf': array([4096, 1755,  752,  322,  138,   59,   25,   10,    4,    2])},\n",
      "       pre_dispatch='2*n_jobs', refit=True, score_func=None, scoring=None,\n",
      "       verbose=0)\n",
      "0.809957950359\n",
      "min_samples_split 752\n",
      "min_samples_leaf 322\n"
     ]
    }
   ],
   "source": [
    "print(clf_tree)\n",
    "# summarize the results of the grid search\n",
    "print(clf_tree.best_score_)\n",
    "print 'min_samples_split', (clf_tree.best_estimator_.min_samples_split)\n",
    "print 'min_samples_leaf', (clf_tree.best_estimator_.min_samples_leaf)"
   ]
  },
  {
   "cell_type": "code",
   "execution_count": 14,
   "metadata": {
    "collapsed": false
   },
   "outputs": [
    {
     "data": {
      "text/plain": [
       "DecisionTreeClassifier(class_weight=None, criterion='entropy', max_depth=None,\n",
       "            max_features=None, max_leaf_nodes=None, min_samples_leaf=322,\n",
       "            min_samples_split=752, min_weight_fraction_leaf=0.0,\n",
       "            random_state=None, splitter='best')"
      ]
     },
     "execution_count": 14,
     "metadata": {},
     "output_type": "execute_result"
    }
   ],
   "source": [
    "split_tree = clf_tree.best_estimator_.min_samples_split\n",
    "leaf_tree = clf_tree.best_estimator_.min_samples_leaf\n",
    "tree_final = DecisionTreeClassifier(criterion=\"entropy\", min_samples_split=split_tree, min_samples_leaf=leaf_tree)\n",
    "tree_final.fit(X_train_and_validation, Y_train_and_validation)  "
   ]
  },
  {
   "cell_type": "code",
   "execution_count": 15,
   "metadata": {
    "collapsed": false
   },
   "outputs": [
    {
     "name": "stdout",
     "output_type": "stream",
     "text": [
      "DT, hyperpar found with GridSearch, train on train+val, test on the test set\n",
      "AUC training_and_validation set 0.794.\n",
      "AUC test set 0.777.\n"
     ]
    }
   ],
   "source": [
    "print \"DT, hyperpar found with GridSearch, train on train+val, test on the test set\"\n",
    "print \"AUC training_and_validation set %.3f.\" % roc_auc_score(Y_train_and_validation, tree_final.predict_proba(X_train_and_validation)[:,1]) \n",
    "print \"AUC test set %.3f.\" % roc_auc_score(Y_test, tree_final.predict_proba(X_test)[:,1])"
   ]
  },
  {
   "cell_type": "code",
   "execution_count": null,
   "metadata": {
    "collapsed": true
   },
   "outputs": [],
   "source": [
    "#RANDOM FOREST"
   ]
  },
  {
   "cell_type": "code",
   "execution_count": 16,
   "metadata": {
    "collapsed": true
   },
   "outputs": [],
   "source": [
    "#out-of-box random forest\n",
    "\n",
    "from sklearn.ensemble import RandomForestClassifier \n",
    "\n",
    "# n_estimators: number of trees in the forest.\n",
    "forest = RandomForestClassifier(n_estimators = 100, criterion = \"entropy\")\n",
    "forest = forest.fit(X_train,Y_train)"
   ]
  },
  {
   "cell_type": "code",
   "execution_count": 17,
   "metadata": {
    "collapsed": false
   },
   "outputs": [
    {
     "name": "stdout",
     "output_type": "stream",
     "text": [
      "out-of-box random forest\n",
      "AUC training set 0.999.\n",
      "AUC validation set 0.803.\n"
     ]
    }
   ],
   "source": [
    "print \"out-of-box random forest\"\n",
    "print \"AUC training set %.3f.\" % roc_auc_score(Y_train, forest.predict_proba(X_train)[:,1]) \n",
    "print \"AUC validation set %.3f.\" % roc_auc_score(Y_validation, forest.predict_proba(X_validation)[:,1])"
   ]
  },
  {
   "cell_type": "code",
   "execution_count": 18,
   "metadata": {
    "collapsed": false
   },
   "outputs": [
    {
     "data": {
      "text/plain": [
       "GridSearchCV(cv=None, error_score='raise',\n",
       "       estimator=RandomForestClassifier(bootstrap=True, class_weight=None, criterion='entropy',\n",
       "            max_depth=None, max_features='auto', max_leaf_nodes=None,\n",
       "            min_samples_leaf=1, min_samples_split=2,\n",
       "            min_weight_fraction_leaf=0.0, n_estimators=10, n_jobs=1,\n",
       "            oob_score=False, random_state=None, verbose=0,\n",
       "            warm_start=False),\n",
       "       fit_params={}, iid=True, loss_func=None, n_jobs=1,\n",
       "       param_grid={'n_estimators': [10, 100, 150], 'min_samples_split': array([   2,    4,   10,   25,   59,  138,  322,  752, 1755, 4096]), 'min_samples_leaf': array([4096, 1755,  752,  322,  138,   59,   25,   10,    4,    2])},\n",
       "       pre_dispatch='2*n_jobs', refit=True, score_func=None,\n",
       "       scoring='roc_auc', verbose=0)"
      ]
     },
     "execution_count": 18,
     "metadata": {},
     "output_type": "execute_result"
    }
   ],
   "source": [
    "#gridSearch to find optimal hyperparameters\n",
    "min_samples_split_values = (np.logspace(1, 12, num=10, base=2)).astype(int)\n",
    "min_samples_leaf_values = (np.logspace(1, 12, num=10, base=2)).astype(int)[::-1]\n",
    "n_estimators_max = [10, 100, 150]\n",
    "parameters = {'n_estimators': n_estimators_max, 'min_samples_split':min_samples_split_values, 'min_samples_leaf':min_samples_leaf_values}\n",
    "\n",
    "forest = RandomForestClassifier(criterion=\"entropy\")\n",
    "clf_forest = grid_search.GridSearchCV(forest, parameters, scoring = \"roc_auc\")\n",
    "clf_forest.fit(X_train_and_validation, Y_train_and_validation)"
   ]
  },
  {
   "cell_type": "code",
   "execution_count": 20,
   "metadata": {
    "collapsed": false
   },
   "outputs": [
    {
     "name": "stdout",
     "output_type": "stream",
     "text": [
      "GridSearchCV(cv=None, error_score='raise',\n",
      "       estimator=RandomForestClassifier(bootstrap=True, class_weight=None, criterion='entropy',\n",
      "            max_depth=None, max_features='auto', max_leaf_nodes=None,\n",
      "            min_samples_leaf=1, min_samples_split=2,\n",
      "            min_weight_fraction_leaf=0.0, n_estimators=10, n_jobs=1,\n",
      "            oob_score=False, random_state=None, verbose=0,\n",
      "            warm_start=False),\n",
      "       fit_params={}, iid=True, loss_func=None, n_jobs=1,\n",
      "       param_grid={'n_estimators': [10, 100, 150], 'min_samples_split': array([   2,    4,   10,   25,   59,  138,  322,  752, 1755, 4096]), 'min_samples_leaf': array([4096, 1755,  752,  322,  138,   59,   25,   10,    4,    2])},\n",
      "       pre_dispatch='2*n_jobs', refit=True, score_func=None,\n",
      "       scoring='roc_auc', verbose=0)\n",
      "0.807837805025\n",
      "min_samples_split 4\n",
      "min_samples_leaf 2\n",
      "number of trees in the forest 150\n"
     ]
    }
   ],
   "source": [
    "print(clf_forest)\n",
    "# summarize the results of the grid search\n",
    "print(clf_forest.best_score_)\n",
    "print 'min_samples_split', (clf_forest.best_estimator_.min_samples_split)\n",
    "print 'min_samples_leaf', (clf_forest.best_estimator_.min_samples_leaf)\n",
    "print 'number of trees in the forest', (clf_forest.best_estimator_.n_estimators)"
   ]
  },
  {
   "cell_type": "code",
   "execution_count": 21,
   "metadata": {
    "collapsed": false
   },
   "outputs": [
    {
     "data": {
      "text/plain": [
       "RandomForestClassifier(bootstrap=True, class_weight=None, criterion='entropy',\n",
       "            max_depth=None, max_features='auto', max_leaf_nodes=None,\n",
       "            min_samples_leaf=2, min_samples_split=4,\n",
       "            min_weight_fraction_leaf=0.0, n_estimators=150, n_jobs=1,\n",
       "            oob_score=False, random_state=None, verbose=0,\n",
       "            warm_start=False)"
      ]
     },
     "execution_count": 21,
     "metadata": {},
     "output_type": "execute_result"
    }
   ],
   "source": [
    "split_forest = clf_forest.best_estimator_.min_samples_split\n",
    "leaf_forest = clf_forest.best_estimator_.min_samples_leaf\n",
    "n_of_trees = clf_forest.best_estimator_.n_estimators\n",
    "forest_final = RandomForestClassifier(n_estimators = n_of_trees, criterion=\"entropy\", min_samples_split=split_forest, min_samples_leaf=leaf_forest)\n",
    "forest_final.fit(X_train_and_validation, Y_train_and_validation)  "
   ]
  },
  {
   "cell_type": "code",
   "execution_count": 22,
   "metadata": {
    "collapsed": false
   },
   "outputs": [
    {
     "name": "stdout",
     "output_type": "stream",
     "text": [
      "AUC training_and_validation set 0.989.\n",
      "AUC test set 0.812.\n"
     ]
    }
   ],
   "source": [
    "print \"AUC training_and_validation set %.3f.\" % roc_auc_score(Y_train_and_validation, forest_final.predict_proba(X_train_and_validation)[:,1]) \n",
    "print \"AUC test set %.3f.\" % roc_auc_score(Y_test, forest_final.predict_proba(X_test)[:,1])"
   ]
  },
  {
   "cell_type": "code",
   "execution_count": 23,
   "metadata": {
    "collapsed": false
   },
   "outputs": [
    {
     "data": {
      "image/png": "[encoded data removed]",
      "text/plain": [
       "<matplotlib.figure.Figure at 0x7f2f1f70dfd0>"
      ]
     },
     "metadata": {},
     "output_type": "display_data"
    }
   ],
   "source": [
    "import matplotlib\n",
    "import matplotlib.pyplot as plt\n",
    "%matplotlib inline\n",
    "from sklearn import linear_model, datasets, svm\n",
    "from sklearn.metrics import roc_auc_score, auc, roc_curve\n",
    "\n",
    "def plot_ROC(y_true, y_predicted, model_name):\n",
    "    fpr, tpr, thresholds = roc_curve(y_true, y_predicted)\n",
    "    roc_auc = auc(fpr, tpr)\n",
    "    c = (np.random.rand(), np.random.rand(), np.random.rand())\n",
    "    plt.plot(fpr, tpr, color= c, label = model_name+' (AUC = %0.2f)' % roc_auc)\n",
    "    plt.plot([0, 1], [0, 1], 'k--')\n",
    "    plt.xlim([0.0, 1.0])\n",
    "    plt.ylim([0.0, 1.0])\n",
    "    plt.xlabel('False Positive Rate')\n",
    "    plt.ylabel('True Positive Rate')\n",
    "    plt.title('ROC')\n",
    "    plt.legend(loc=\"lower right\")\n",
    "\n",
    "plot_ROC(Y_test, forest_final.predict_proba(X_test)[:,1], 'Random forest')\n",
    "plot_ROC(Y_test, tree_final.predict_proba(X_test)[:,1], 'Decision Tree')\n",
    "plt.show()"
   ]
  },
  {
   "cell_type": "code",
   "execution_count": null,
   "metadata": {
    "collapsed": true
   },
   "outputs": [],
   "source": []
  },
  {
   "cell_type": "code",
   "execution_count": null,
   "metadata": {
    "collapsed": true
   },
   "outputs": [],
   "source": []
  },
  {
   "cell_type": "code",
   "execution_count": null,
   "metadata": {
    "collapsed": false
   },
   "outputs": [],
   "source": []
  },
  {
   "cell_type": "code",
   "execution_count": null,
   "metadata": {
    "collapsed": true
   },
   "outputs": [],
   "source": []
  },
  {
   "cell_type": "code",
   "execution_count": null,
   "metadata": {
    "collapsed": true
   },
   "outputs": [],
   "source": []
  },
  {
   "cell_type": "code",
   "execution_count": null,
   "metadata": {
    "collapsed": true
   },
   "outputs": [],
   "source": []
  }
 ],
 "metadata": {
  "kernelspec": {
   "display_name": "Python 2",
   "language": "python",
   "name": "python2"
  },
  "language_info": {
   "codemirror_mode": {
    "name": "ipython",
    "version": 2
   },
   "file_extension": ".py",
   "mimetype": "text/x-python",
   "name": "python",
   "nbconvert_exporter": "python",
   "pygments_lexer": "ipython2",
   "version": "2.7.10"
  }
 },
 "nbformat": 4,
 "nbformat_minor": 0
}
