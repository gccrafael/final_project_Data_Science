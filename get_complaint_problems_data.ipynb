{
 "cells": [
  {
   "cell_type": "markdown",
   "metadata": {},
   "source": [
    "# Reading in data"
   ]
  },
  {
   "cell_type": "markdown",
   "metadata": {},
   "source": [
    "First, data from the NYC Housing Complaints dataset are read in as a pandas data frame using the get_problem_data function. Note the query is set to:\n",
    "- Only get records where the status date is between 2015-08-01 and 2015-10-01\n",
    "Additionally, the function is called with lim=5, so 5000 records are pulled.\n",
    "\n",
    "Finally, the dataframe is downsampled to just 1000 records."
   ]
  },
  {
   "cell_type": "code",
   "execution_count": 46,
   "metadata": {
    "collapsed": false
   },
   "outputs": [
    {
     "name": "stdout",
     "output_type": "stream",
     "text": [
      "Currently have  2000  records\n",
      "Currently have  3000  records\n",
      "Currently have  4000  records\n",
      "Currently have  5000  records\n"
     ]
    }
   ],
   "source": [
    "import pandas as pd\n",
    "import numpy as np\n",
    "import re\n",
    "\n",
    "### \n",
    "\n",
    "def get_problem_data(lim):\n",
    "    '''get_problem_data takes one argument- the number of records to get (in thousands)- and\n",
    "    returns a pandas dataframe containing lim thousand records from the NYC Complaints Problem\n",
    "    dataset (filtering only record with status dates between 2015-08-01 and 2015-10-01)'''\n",
    "    \n",
    "    query = (\"https://data.cityofnewyork.us/resource/gp4p-wib8.json?\"\n",
    "         \"$where=statusdate%20between%20'2015-08-01T00:00:00'%20and%20'2015-10-01T00:00:00'\"\n",
    "         \"&$limit=1000\")\n",
    "    complaints_08_01_to_10_01 = pd.read_json(query)\n",
    "    if lim > 1:\n",
    "        more_data = True\n",
    "    else:\n",
    "        more_data = False\n",
    "    i=1\n",
    "    while more_data == True:\n",
    "        query = (\"https://data.cityofnewyork.us/resource/gp4p-wib8.json?\"\n",
    "         \"$where=statusdate%20between%20'2015-08-01T00:00:00'%20and%20'2015-10-01T00:00:00'\"\n",
    "         \"&$limit=1000&$order=:id&$offset=\" + str(i*1000))\n",
    "        data_page = pd.read_json(query)\n",
    "        complaints_08_01_to_10_01 = pd.concat([complaints_08_01_to_10_01, data_page],ignore_index=True)\n",
    "        print 'Currently have ', len(complaints_08_01_to_10_01), ' records'\n",
    "        i +=1\n",
    "        if len(data_page) < 1000 or i == lim:\n",
    "            more_data = False\n",
    "    return complaints_08_01_to_10_01\n",
    "        \n",
    "complaints_08_01_to_10_01 = get_problem_data(5)\n",
    "short_df_complaints = complaints_08_01_to_10_01.sample(1000)"
   ]
  },
  {
   "cell_type": "markdown",
   "metadata": {},
   "source": [
    "Next, complaint status text strings are coded using infer_complaint_status. Finally, the number of observations in each group is reported."
   ]
  },
  {
   "cell_type": "code",
   "execution_count": 49,
   "metadata": {
    "collapsed": false
   },
   "outputs": [
    {
     "name": "stdout",
     "output_type": "stream",
     "text": [
      "Counts for each code\n",
      "   Code  Count\n",
      "0     0     18\n",
      "1     1    508\n",
      "2     2    267\n",
      "3     3    140\n",
      "4     4     27\n",
      "5     5     39\n",
      "6     6      1\n",
      "\n",
      "\n",
      "Status descriptions for all '0' code observations\n",
      "1222    NaN\n",
      "1469    NaN\n",
      "1710    NaN\n",
      "1471    NaN\n",
      "2176    NaN\n",
      "1472    NaN\n",
      "2164    NaN\n",
      "2109    NaN\n",
      "1865    NaN\n",
      "1223    NaN\n",
      "2209    NaN\n",
      "4096    NaN\n",
      "1230    NaN\n",
      "2112    NaN\n",
      "1408    NaN\n",
      "1192    NaN\n",
      "1448    NaN\n",
      "1741    NaN\n",
      "Name: statusdescription, dtype: object\n"
     ]
    }
   ],
   "source": [
    "\n",
    "###Proposed classes for StatusDescription:\n",
    "## 1. \"No violations were issued\" = r'No\\sviolations\\swere\\sissued'\n",
    "## 2. \"not able to gain access\" = r'not\\sables\\sto\\sgain\\saccess'\n",
    "## 3. \". Violations were issued\" = r'\\.Violations\\swere\\sissued'\n",
    "##4. \". Violations were previously issued\" = r'\\.Violations\\swere\\spreviously\\sissued'\n",
    "##5. \"conditions were corrected\" = r'conditions\\swere\\scorrected'\n",
    "##5. \"advised by a tenant' [that heat or hot water was restore] = r'advised\\sby\\sa\\stenant'\n",
    "##6. \"conditions are still open\" = r'conditions\\sare\\still\\open'\n",
    "##0. Not one of the above.\n",
    "\n",
    "def infer_complaint_status(input_string):\n",
    "    try:\n",
    "        input_string = str(input_string)\n",
    "    except:\n",
    "        print input_string\n",
    "    if bool(re.search(r'No\\sviolations\\swere\\sissued', input_string)):\n",
    "        code = 1\n",
    "    elif bool(re.search(r'not\\sable\\sto\\sgain\\saccess', input_string)):\n",
    "        code = 2\n",
    "    elif bool(re.search(r'\\.\\sViolations\\swere\\sissued', input_string)):\n",
    "        code = 3\n",
    "    elif bool(re.search(r'\\.\\sViolations\\swere\\spreviously\\sissued', input_string)):\n",
    "        code = 4\n",
    "    elif bool(re.search(r'conditions\\swere\\scorrected', input_string)):\n",
    "        code = 5 \n",
    "    elif bool(re.search(r'advised\\sby\\sa\\stenant', input_string)):\n",
    "        code = 5\n",
    "    elif bool(re.search(r'conditions\\sare\\sstill\\sopen', input_string)):\n",
    "        code = 6\n",
    "    else:\n",
    "        code = 0\n",
    "    return code\n",
    "\n",
    "short_df_complaints.loc[:,'complaint_status_inferred'] = short_df_complaints.loc[:,'statusdescription'].map(infer_complaint_status)\n",
    "grouped = short_df_complaints.groupby('complaint_status_inferred')\n",
    "\n",
    "counts = pd.DataFrame()\n",
    "counts['Code'] = grouped.groups.keys()\n",
    "counts['Count'] = map(len, grouped.groups.values())\n",
    "print 'Counts for each code'\n",
    "print counts\n",
    "print '\\n'\n",
    "\n",
    "## Returns statusdescriptions for all code 6 cases\n",
    "pd.options.display.max_colwidth = 300\n",
    "print \"Status descriptions for all '0' code observations\"\n",
    "print  grouped.get_group(0)['statusdescription']"
   ]
  }
 ],
 "metadata": {
  "kernelspec": {
   "display_name": "Python 2",
   "language": "python",
   "name": "python2"
  },
  "language_info": {
   "codemirror_mode": {
    "name": "ipython",
    "version": 2
   },
   "file_extension": ".py",
   "mimetype": "text/x-python",
   "name": "python",
   "nbconvert_exporter": "python",
   "pygments_lexer": "ipython2",
   "version": "2.7.10"
  }
 },
 "nbformat": 4,
 "nbformat_minor": 0
}
