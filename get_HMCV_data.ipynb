{
 "cells": [
  {
   "cell_type": "markdown",
   "metadata": {},
   "source": [
    "# Getting and cleaning Housing Maintenance Code Violation (HMCV) data"
   ]
  },
  {
   "cell_type": "markdown",
   "metadata": {},
   "source": [
    "HMCV dataset can be viewed online at: https://data.cityofnewyork.us/Housing-Development/Housing-Maintenance-Code-Violations/wvxf-dwi5\n"
   ]
  },
  {
   "cell_type": "markdown",
   "metadata": {},
   "source": [
    "\n",
    "First, data from the NYC HMCV dataset are read into a pandas data frame."
   ]
  },
  {
   "cell_type": "code",
   "execution_count": 16,
   "metadata": {
    "collapsed": false
   },
   "outputs": [
    {
     "data": {
      "text/html": [
       "<div style=\"max-height:1000px;max-width:1500px;overflow:auto;\">\n",
       "<table border=\"1\" class=\"dataframe\">\n",
       "  <thead>\n",
       "    <tr style=\"text-align: right;\">\n",
       "      <th></th>\n",
       "      <th>ViolationID</th>\n",
       "      <th>BuildingID</th>\n",
       "      <th>RegistrationID</th>\n",
       "      <th>BoroID</th>\n",
       "      <th>Boro</th>\n",
       "      <th>HouseNumber</th>\n",
       "      <th>LowHouseNumber</th>\n",
       "      <th>HighHouseNumber</th>\n",
       "      <th>StreetName</th>\n",
       "      <th>StreetCode</th>\n",
       "      <th>Zip</th>\n",
       "      <th>Apartment</th>\n",
       "      <th>Story</th>\n",
       "      <th>Block</th>\n",
       "      <th>Lot</th>\n",
       "      <th>Class</th>\n",
       "      <th>InspectionDate</th>\n",
       "      <th>ApprovedDate</th>\n",
       "      <th>OriginalCertifyByDate</th>\n",
       "      <th>OriginalCorrectByDate</th>\n",
       "      <th></th>\n",
       "    </tr>\n",
       "  </thead>\n",
       "  <tbody>\n",
       "    <tr>\n",
       "      <th>0</th>\n",
       "      <td> 10304176</td>\n",
       "      <td> 45567</td>\n",
       "      <td> 202840</td>\n",
       "      <td> 2</td>\n",
       "      <td>     BRONX</td>\n",
       "      <td> 1905</td>\n",
       "      <td> 1905</td>\n",
       "      <td> 1905</td>\n",
       "      <td> ANDREWS AVENUE SOUTH</td>\n",
       "      <td>  8820</td>\n",
       "      <td> 10453</td>\n",
       "      <td> 1A</td>\n",
       "      <td> 1</td>\n",
       "      <td> 3221</td>\n",
       "      <td> 90</td>\n",
       "      <td> C</td>\n",
       "      <td> 07/10/2014</td>\n",
       "      <td> 07/11/2014</td>\n",
       "      <td> 07/27/2014</td>\n",
       "      <td> 07/22/2014</td>\n",
       "      <td>...</td>\n",
       "    </tr>\n",
       "    <tr>\n",
       "      <th>1</th>\n",
       "      <td> 10340355</td>\n",
       "      <td> 41491</td>\n",
       "      <td> 105339</td>\n",
       "      <td> 1</td>\n",
       "      <td> MANHATTAN</td>\n",
       "      <td>  111</td>\n",
       "      <td>  111</td>\n",
       "      <td>  115</td>\n",
       "      <td>      WEST 141 STREET</td>\n",
       "      <td> 36590</td>\n",
       "      <td> 10030</td>\n",
       "      <td> 3H</td>\n",
       "      <td> 4</td>\n",
       "      <td> 2010</td>\n",
       "      <td> 21</td>\n",
       "      <td> B</td>\n",
       "      <td> 08/08/2014</td>\n",
       "      <td> 08/11/2014</td>\n",
       "      <td> 09/30/2014</td>\n",
       "      <td> 09/16/2014</td>\n",
       "      <td>...</td>\n",
       "    </tr>\n",
       "    <tr>\n",
       "      <th>2</th>\n",
       "      <td> 10337179</td>\n",
       "      <td> 27609</td>\n",
       "      <td> 107359</td>\n",
       "      <td> 1</td>\n",
       "      <td> MANHATTAN</td>\n",
       "      <td>  272</td>\n",
       "      <td>  272</td>\n",
       "      <td>  274</td>\n",
       "      <td>       SHERMAN AVENUE</td>\n",
       "      <td> 30490</td>\n",
       "      <td> 10034</td>\n",
       "      <td> 3C</td>\n",
       "      <td> 3</td>\n",
       "      <td> 2228</td>\n",
       "      <td> 42</td>\n",
       "      <td> B</td>\n",
       "      <td> 08/05/2014</td>\n",
       "      <td> 08/08/2014</td>\n",
       "      <td> 09/29/2014</td>\n",
       "      <td> 09/15/2014</td>\n",
       "      <td>...</td>\n",
       "    </tr>\n",
       "  </tbody>\n",
       "</table>\n",
       "<p>3 rows × 30 columns</p>\n",
       "</div>"
      ],
      "text/plain": [
       "   ViolationID  BuildingID  RegistrationID  BoroID       Boro HouseNumber  \\\n",
       "0     10304176       45567          202840       2      BRONX        1905   \n",
       "1     10340355       41491          105339       1  MANHATTAN         111   \n",
       "2     10337179       27609          107359       1  MANHATTAN         272   \n",
       "\n",
       "  LowHouseNumber HighHouseNumber            StreetName  StreetCode    Zip  \\\n",
       "0           1905            1905  ANDREWS AVENUE SOUTH        8820  10453   \n",
       "1            111             115       WEST 141 STREET       36590  10030   \n",
       "2            272             274        SHERMAN AVENUE       30490  10034   \n",
       "\n",
       "  Apartment Story  Block  Lot Class InspectionDate ApprovedDate  \\\n",
       "0        1A     1   3221   90     C     07/10/2014   07/11/2014   \n",
       "1        3H     4   2010   21     B     08/08/2014   08/11/2014   \n",
       "2        3C     3   2228   42     B     08/05/2014   08/08/2014   \n",
       "\n",
       "  OriginalCertifyByDate OriginalCorrectByDate      \n",
       "0            07/27/2014            07/22/2014 ...  \n",
       "1            09/30/2014            09/16/2014 ...  \n",
       "2            09/29/2014            09/15/2014 ...  \n",
       "\n",
       "[3 rows x 30 columns]"
      ]
     },
     "execution_count": 16,
     "metadata": {},
     "output_type": "execute_result"
    }
   ],
   "source": [
    "import pandas as pd\n",
    "import numpy as np\n",
    "import re\n",
    "from pandas import parser\n",
    "\n",
    "### \n",
    "\n",
    "def get_HMCV_data():\n",
    "    #query = (\"https://data.cityofnewyork.us/api/views/wvxf-dwi5/rows.csv?accessType=DOWNLOAD\")\n",
    "    query = (\"Housing_Maintenance_Code_Violations.csv\")\n",
    "    HMCV_data = pd.read_csv(query)\n",
    "    return HMCV_data\n",
    "            \n",
    "HMCV_data = get_HMCV_data()\n",
    "HMCV_data.head(3)"
   ]
  },
  {
   "cell_type": "code",
   "execution_count": 17,
   "metadata": {
    "collapsed": false
   },
   "outputs": [
    {
     "name": "stdout",
     "output_type": "stream",
     "text": [
      "(1131841, 30)\n"
     ]
    }
   ],
   "source": [
    "# This should be 1,131,841 rows and 30 columns, per online HMCV dataset information\n",
    "print HMCV_data.shape"
   ]
  },
  {
   "cell_type": "markdown",
   "metadata": {},
   "source": [
    "Next, the dataset is cleaned as follows:\n",
    "* Only the following features are included:\n",
    "    ** BoroID, Boro, Block, Lot, Class, InspectionDate"
   ]
  },
  {
   "cell_type": "code",
   "execution_count": 18,
   "metadata": {
    "collapsed": false
   },
   "outputs": [
    {
     "name": "stdout",
     "output_type": "stream",
     "text": [
      "(1131841, 30)\n",
      "(1131841, 6)\n"
     ]
    }
   ],
   "source": [
    "print HMCV_data.shape\n",
    "HMCV_data = HMCV_data[['BoroID', 'Boro', 'Block', 'Lot', 'Class', 'InspectionDate']]\n",
    "print HMCV_data.shape"
   ]
  },
  {
   "cell_type": "code",
   "execution_count": 19,
   "metadata": {
    "collapsed": false
   },
   "outputs": [
    {
     "name": "stdout",
     "output_type": "stream",
     "text": [
      "(1131841, 6)\n"
     ]
    }
   ],
   "source": [
    "# Delete duplicate rows (if any)\n",
    "HMCV_data.drop_duplicates()\n",
    "print HMCV_data.shape"
   ]
  },
  {
   "cell_type": "code",
   "execution_count": 20,
   "metadata": {
    "collapsed": false
   },
   "outputs": [
    {
     "name": "stdout",
     "output_type": "stream",
     "text": [
      "                      BoroID    Boro\n",
      "BoroID Boro                         \n",
      "1      MANHATTAN      239121  239121\n",
      "2      BRONX          341915  341915\n",
      "3      BROOKLYN       423966  423966\n",
      "4      QUEENS         110757  110757\n",
      "5      STATEN ISLAND   16082   16082\n",
      "\n",
      "[5 rows x 2 columns]\n"
     ]
    }
   ],
   "source": [
    "# Check for Boro and BoroID conflicts. Per 'HPD Violataion Open Data.pdf',\n",
    "# Boro code (1 = Manhattan, 2 = Bronx, 3 = Brooklyn, 4 = Queens, 5 = Staten Island)\n",
    "print HMCV_data[['BoroID', 'Boro']].groupby(['BoroID', 'Boro']).count().iloc[:,[0,1]]"
   ]
  },
  {
   "cell_type": "code",
   "execution_count": 21,
   "metadata": {
    "collapsed": false
   },
   "outputs": [
    {
     "name": "stdout",
     "output_type": "stream",
     "text": [
      "(1131841, 5)\n"
     ]
    }
   ],
   "source": [
    "# Drop the Boro column since we have BoroID\n",
    "HMCV_data = HMCV_data.drop(['Boro'],1)\n",
    "print HMCV_data.shape"
   ]
  },
  {
   "cell_type": "markdown",
   "metadata": {},
   "source": [
    "Then rows are dropped if:\n",
    "    * They are incomplete (i.e. only complete records are included in analytic sample)"
   ]
  },
  {
   "cell_type": "code",
   "execution_count": 22,
   "metadata": {
    "collapsed": false
   },
   "outputs": [
    {
     "name": "stdout",
     "output_type": "stream",
     "text": [
      "(1131841, 5)\n"
     ]
    }
   ],
   "source": [
    "HMCV_data = HMCV_data[~(HMCV_data.isnull().any(axis=1))]\n",
    "print HMCV_data.shape"
   ]
  },
  {
   "cell_type": "code",
   "execution_count": 23,
   "metadata": {
    "collapsed": false
   },
   "outputs": [
    {
     "name": "stdout",
     "output_type": "stream",
     "text": [
      "   BoroID  Block  Lot Class InspectionDate\n",
      "0       2   3221   90     C     07/10/2014\n",
      "1       1   2010   21     B     08/08/2014\n",
      "2       1   2228   42     B     08/05/2014\n",
      "3       1   2153   36     A     03/09/2013\n",
      "4       3   1419    6     B     08/26/2014\n",
      "5       2   2488   31     A     07/31/2014\n",
      "\n",
      "[6 rows x 5 columns]\n"
     ]
    }
   ],
   "source": [
    "print HMCV_data.head(6)"
   ]
  },
  {
   "cell_type": "markdown",
   "metadata": {},
   "source": [
    "Only entries from 4/1/2014 - 4/1/2015 are included"
   ]
  },
  {
   "cell_type": "code",
   "execution_count": 24,
   "metadata": {
    "collapsed": false
   },
   "outputs": [
    {
     "name": "stdout",
     "output_type": "stream",
     "text": [
      "datetime64[ns]\n"
     ]
    }
   ],
   "source": [
    "HMCV_data['InspectionDate'] = pd.to_datetime(HMCV_data['InspectionDate'])\n",
    "print HMCV_data['InspectionDate'].dtype"
   ]
  },
  {
   "cell_type": "code",
   "execution_count": 25,
   "metadata": {
    "collapsed": false
   },
   "outputs": [
    {
     "name": "stdout",
     "output_type": "stream",
     "text": [
      "(1131841, 5)\n",
      "   BoroID  Block  Lot Class InspectionDate\n",
      "0       2   3221   90     C     2014-07-10\n",
      "1       1   2010   21     B     2014-08-08\n",
      "2       1   2228   42     B     2014-08-05\n",
      "4       3   1419    6     B     2014-08-26\n",
      "5       2   2488   31     A     2014-07-31\n",
      "\n",
      "[5 rows x 5 columns]\n"
     ]
    },
    {
     "data": {
      "text/plain": [
       "(391519, 5)"
      ]
     },
     "execution_count": 25,
     "metadata": {},
     "output_type": "execute_result"
    }
   ],
   "source": [
    "print HMCV_data.shape\n",
    "startDate = '20140401'\n",
    "endDate = '20150401'\n",
    "HMCV_data = HMCV_data[(HMCV_data['InspectionDate'] > startDate) & (HMCV_data['InspectionDate'] < endDate)]\n",
    "print HMCV_data.head(5)\n",
    "HMCV_data.shape"
   ]
  },
  {
   "cell_type": "code",
   "execution_count": 26,
   "metadata": {
    "collapsed": false
   },
   "outputs": [
    {
     "data": {
      "text/html": [
       "<div style=\"max-height:1000px;max-width:1500px;overflow:auto;\">\n",
       "<table border=\"1\" class=\"dataframe\">\n",
       "  <thead>\n",
       "    <tr style=\"text-align: right;\">\n",
       "      <th></th>\n",
       "      <th>BoroID</th>\n",
       "      <th>Block</th>\n",
       "      <th>Lot</th>\n",
       "      <th>Class</th>\n",
       "      <th>InspectionDate</th>\n",
       "      <th>BBL</th>\n",
       "    </tr>\n",
       "  </thead>\n",
       "  <tbody>\n",
       "    <tr>\n",
       "      <th>0</th>\n",
       "      <td> 2</td>\n",
       "      <td> 3221</td>\n",
       "      <td> 90</td>\n",
       "      <td> C</td>\n",
       "      <td>2014-07-10</td>\n",
       "      <td> 2032210090</td>\n",
       "    </tr>\n",
       "    <tr>\n",
       "      <th>1</th>\n",
       "      <td> 1</td>\n",
       "      <td> 2010</td>\n",
       "      <td> 21</td>\n",
       "      <td> B</td>\n",
       "      <td>2014-08-08</td>\n",
       "      <td> 1020100021</td>\n",
       "    </tr>\n",
       "    <tr>\n",
       "      <th>2</th>\n",
       "      <td> 1</td>\n",
       "      <td> 2228</td>\n",
       "      <td> 42</td>\n",
       "      <td> B</td>\n",
       "      <td>2014-08-05</td>\n",
       "      <td> 1022280042</td>\n",
       "    </tr>\n",
       "    <tr>\n",
       "      <th>4</th>\n",
       "      <td> 3</td>\n",
       "      <td> 1419</td>\n",
       "      <td>  6</td>\n",
       "      <td> B</td>\n",
       "      <td>2014-08-26</td>\n",
       "      <td> 3014190006</td>\n",
       "    </tr>\n",
       "    <tr>\n",
       "      <th>5</th>\n",
       "      <td> 2</td>\n",
       "      <td> 2488</td>\n",
       "      <td> 31</td>\n",
       "      <td> A</td>\n",
       "      <td>2014-07-31</td>\n",
       "      <td> 2024880031</td>\n",
       "    </tr>\n",
       "  </tbody>\n",
       "</table>\n",
       "<p>5 rows × 6 columns</p>\n",
       "</div>"
      ],
      "text/plain": [
       "   BoroID  Block  Lot Class InspectionDate         BBL\n",
       "0       2   3221   90     C     2014-07-10  2032210090\n",
       "1       1   2010   21     B     2014-08-08  1020100021\n",
       "2       1   2228   42     B     2014-08-05  1022280042\n",
       "4       3   1419    6     B     2014-08-26  3014190006\n",
       "5       2   2488   31     A     2014-07-31  2024880031\n",
       "\n",
       "[5 rows x 6 columns]"
      ]
     },
     "execution_count": 26,
     "metadata": {},
     "output_type": "execute_result"
    }
   ],
   "source": [
    "def make_BBL(borough, block, lot): \n",
    "    '''\n",
    "    The borough code is one numeric digit. \n",
    "    The tax block is one to five numeric digits, preceded with leading zeros \n",
    "    when the block is less than five digits.\n",
    "    The tax lot is one to four digits and is preceded with leading zeros\n",
    "    when the lot is less than four digits.\n",
    "    \n",
    "    >>> make_BBL(1,16,100)\n",
    "    1000160100\n",
    "    >>> make_BBL(3,15828,7501)\n",
    "    3158287501\n",
    "    '''\n",
    "    return int(str(borough) + str(block).zfill(5) + str(lot).zfill(4))\n",
    "    \n",
    "HMCV_data['BBL'] = map(make_BBL, HMCV_data['BoroID'], HMCV_data['Block'], HMCV_data['Lot'])\n",
    "HMCV_data.head(5)"
   ]
  },
  {
   "cell_type": "markdown",
   "metadata": {},
   "source": [
    "Drop BoroID, Block, Lot (since we have BBL now), and InspectionDate"
   ]
  },
  {
   "cell_type": "code",
   "execution_count": 27,
   "metadata": {
    "collapsed": false
   },
   "outputs": [
    {
     "name": "stdout",
     "output_type": "stream",
     "text": [
      "(391519, 2)\n"
     ]
    }
   ],
   "source": [
    "HMCV_data = HMCV_data.drop(['BoroID', 'Block', 'Lot', 'InspectionDate'],1)\n",
    "print HMCV_data.shape"
   ]
  },
  {
   "cell_type": "markdown",
   "metadata": {},
   "source": [
    "Drop rows with the class of I, since the only valid classes are A, B, and C (per 'HPD Violation Open Data.pdf')"
   ]
  },
  {
   "cell_type": "code",
   "execution_count": 28,
   "metadata": {
    "collapsed": false
   },
   "outputs": [
    {
     "name": "stdout",
     "output_type": "stream",
     "text": [
      "(341841, 2)\n"
     ]
    }
   ],
   "source": [
    "HMCV_data = HMCV_data[HMCV_data.Class != 'I']\n",
    "print HMCV_data.shape\n",
    "#HMCV_data.to_csv('HMCV_BBL_Class.csv')"
   ]
  },
  {
   "cell_type": "markdown",
   "metadata": {},
   "source": [
    "Rearrange to violation classes by BBL"
   ]
  },
  {
   "cell_type": "code",
   "execution_count": 29,
   "metadata": {
    "collapsed": false
   },
   "outputs": [
    {
     "data": {
      "text/html": [
       "<div style=\"max-height:1000px;max-width:1500px;overflow:auto;\">\n",
       "<table border=\"1\" class=\"dataframe\">\n",
       "  <thead>\n",
       "    <tr style=\"text-align: right;\">\n",
       "      <th></th>\n",
       "      <th>Class A Violations</th>\n",
       "      <th>Class B Violations</th>\n",
       "      <th>Class C Violations</th>\n",
       "      <th>BBL</th>\n",
       "    </tr>\n",
       "  </thead>\n",
       "  <tbody>\n",
       "    <tr>\n",
       "      <th>0</th>\n",
       "      <td> 0</td>\n",
       "      <td>  0</td>\n",
       "      <td> 1</td>\n",
       "      <td> 1000157501</td>\n",
       "    </tr>\n",
       "    <tr>\n",
       "      <th>1</th>\n",
       "      <td> 1</td>\n",
       "      <td> 14</td>\n",
       "      <td> 1</td>\n",
       "      <td> 1000160100</td>\n",
       "    </tr>\n",
       "    <tr>\n",
       "      <th>2</th>\n",
       "      <td> 0</td>\n",
       "      <td>  0</td>\n",
       "      <td> 1</td>\n",
       "      <td> 1000167508</td>\n",
       "    </tr>\n",
       "    <tr>\n",
       "      <th>3</th>\n",
       "      <td> 1</td>\n",
       "      <td>  4</td>\n",
       "      <td> 0</td>\n",
       "      <td> 1000167515</td>\n",
       "    </tr>\n",
       "    <tr>\n",
       "      <th>4</th>\n",
       "      <td> 2</td>\n",
       "      <td>  5</td>\n",
       "      <td> 0</td>\n",
       "      <td> 1000167516</td>\n",
       "    </tr>\n",
       "  </tbody>\n",
       "</table>\n",
       "<p>5 rows × 4 columns</p>\n",
       "</div>"
      ],
      "text/plain": [
       "   Class A Violations  Class B Violations  Class C Violations         BBL\n",
       "0                   0                   0                   1  1000157501\n",
       "1                   1                  14                   1  1000160100\n",
       "2                   0                   0                   1  1000167508\n",
       "3                   1                   4                   0  1000167515\n",
       "4                   2                   5                   0  1000167516\n",
       "\n",
       "[5 rows x 4 columns]"
      ]
     },
     "execution_count": 29,
     "metadata": {},
     "output_type": "execute_result"
    }
   ],
   "source": [
    "HMCV_data = HMCV_data.groupby(['BBL', 'Class']).size().reset_index()\n",
    "HMCV_data.columns = ['BBL', 'Class', 'Total Class Count']\n",
    "HMCV_data = HMCV_data.pivot('BBL', 'Class', 'Total Class Count')\n",
    "HMCV_data['BBL'] = HMCV_data.index\n",
    "HMCV_data = HMCV_data.reset_index(drop=True)\n",
    "HMCV_data.columns = ['Class A Violations', 'Class B Violations', 'Class C Violations', 'BBL']\n",
    "HMCV_data = HMCV_data.fillna(0)\n",
    "HMCV_data.head(5)"
   ]
  },
  {
   "cell_type": "code",
   "execution_count": 30,
   "metadata": {
    "collapsed": false
   },
   "outputs": [
    {
     "data": {
      "text/plain": [
       "(27725, 4)"
      ]
     },
     "execution_count": 30,
     "metadata": {},
     "output_type": "execute_result"
    }
   ],
   "source": [
    "HMCV_data.shape"
   ]
  }
 ],
 "metadata": {
  "kernelspec": {
   "display_name": "Python 2",
   "language": "python",
   "name": "python2"
  },
  "language_info": {
   "codemirror_mode": {
    "name": "ipython",
    "version": 2
   },
   "file_extension": ".py",
   "mimetype": "text/x-python",
   "name": "python",
   "nbconvert_exporter": "python",
   "pygments_lexer": "ipython2",
   "version": "2.7.6"
  }
 },
 "nbformat": 4,
 "nbformat_minor": 0
}
